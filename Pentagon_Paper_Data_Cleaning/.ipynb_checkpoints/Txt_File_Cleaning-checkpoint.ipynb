{
 "cells": [
  {
   "cell_type": "code",
   "execution_count": 1,
   "id": "e3645551",
   "metadata": {},
   "outputs": [],
   "source": [
    "#to do\n",
    "#import packages\n",
    "#upload txt file\n",
    "#use pandas to make newline characters into tabs\n",
    "#export as .csv file"
   ]
  },
  {
   "cell_type": "code",
   "execution_count": 2,
   "id": "b6e4359e",
   "metadata": {},
   "outputs": [],
   "source": [
    "import pandas as pd\n",
    "from pathlib import Path\n",
    "import re"
   ]
  },
  {
   "cell_type": "code",
   "execution_count": 3,
   "id": "d0b24f5d",
   "metadata": {},
   "outputs": [],
   "source": [
    "# path = Path('../../Pentagon_Papers_Text_Files/Pentagon-Papers-Index-text.txt')\n",
    "path = Path('../../Cleaned_Pentagon_Papers_text_files/Cleaned_Pentagon-Papers-I.txt')"
   ]
  },
  {
   "cell_type": "code",
   "execution_count": 4,
   "id": "15025e7b",
   "metadata": {},
   "outputs": [],
   "source": [
    "input_doc = open(path, encoding = 'utf-8').read()"
   ]
  },
  {
   "cell_type": "code",
   "execution_count": 5,
   "id": "92b50f41",
   "metadata": {},
   "outputs": [
    {
     "data": {
      "text/plain": [
       "'  EXECUTIVE SECRETARIAT TLE JJ RMM KDA ; r SS-A RHM LA NP SS-I SS-O RTC HHB BF PW SS-S JC TMT JM  HCBJ SS-EX ACTION I INFORMATION COMMENTS PLEASE I YOUR FILES FOLLOW UP PER CONVERSATION PLEASE SEECCL;ME REMARKS ELIOT JR. R. H. MILLER R. T. CURRAN X 22540 X23126 X 28448  nOefCCS Regrading Action  35-71 OFFICE OF THE SECRETARY OF DEFENSE REGRADlNG ACTI0N 23 June 1971 froms  Control Officer SecDefClassified Control Section Room 3A948 The Pentagon washington D. C. 20301  T0 State Department ATTENTION Document ControlSecurity Officer washington D C 20520DOCUMENT (Typ Office oi origin uaie Subject) CONTROL NUMBER CLASSIFICATION REGRADED TO ! Memorandum for the Secretary of Defense Thru ASDISA and DASD(Policy Planning and Arms Control) OASD(ISA) From Chairman CSD Task Force s Leslie H. Gelb dated 15 January 1969 Subject Final Report OSD Vietnam Task Force (u) w1 Inclosure::::::::: SecDefControl# -02969 CONFIDENTIAL UNCLASSIFIED WHEN SEPARATED FROM INCLOSURJ INCLOSURE # 1 Document Subject OSD Vietnam Task Force Outline of Studies (U) dtd 10 January 1969 n CONFIDENTIAL REMAINS CONFIDENTIAL NOTHING F0LL0WSDocument was forwarded to both Mr. Bundy and 1 If you have any questions concerning this regj SFC william C. Holzer US Army Chief Clerk J The Pentagon. Phone 0X-76131 lr. Katzenback ading action p ecDefClassifi Ln 1969 Lease contact ad Control Sect ion Rm3A948 DEPARTMENT JUL 1 5 OFFICE OF S h STATE 1371 iCURITY The document(e) listed above haehave been regraded and action should be taken to mark copies quested that you notify all recipients to whom additional distribution was furnished. T. B. EDWARDS MAJ USA  Control Officer Prlnfad or typad name ot official Signature e n F0RM 7 M 1 MAY 60 CJ ! kJ G4 4 7 6 3  1945 - 1967VIETNAM TASK FORCE OFFICE OF THE SECRETARY OF DEFENSE UNITED STATES VIETNAM RELATIONSSec Def fioat L  FINAL REPORT - OSD Task Force Vietnam & INDEX si? ter coot S-  15 January 1969 MEMORANDUM FOR THE SECRETARY OF DEFENSE I THROUGH Mr. Paul C. warnke ASDISA Dr. Morton H. Halperin DASDPolicy Planning and Arms ControlISA SUBJECT Final Report OSD Vietnam Task Force On June 17 19&7 Secretary Robert S. McNamara directed that a Task Force be formed to study the history of United States involvement in Vietnam from world war II to the present. Mr. McNamaras guidance was simply to do studies that were \"encyclopedic and objective.\" with six full-time professionals assigned to the Task Force we were to complete our work in three months. A year and a half later and with the involvement of six times six professionals we are finally done to the tune of thirty-seven studies and fifteen collections of documents contained in forty-three volumes. In the beginning Mr. McNamara gave the Task Force full access to OSD files and the Task Force received access to CIA materials and some use of State Department cables and memoranda we had no access to white House files. Our guidance prohibited personal interviews with any of the principal participants. -The result was not so much a documentary history as a history based solely on documents checked and rechecked with ant-like diligence. Pieces of paper formidable and suggestive by themselves could have meant much or nothing. Perhaps this document was never sent anywhere and perhaps that one though commented upon was irrelevant without the memories of people to tell us we were certain to make mistakes. Yet using those memories might have been misleading as well. This approach to research was bound to lead to distortions and distortions we are sure abound in these studies. To bring the documents to life to fill in gaps and just to see what the \"outside world\" was thinking we turned to newspapers periodicals and books we never used these sources to supplant the classified documents but only to supplement them. And because these documents sometimes written by very clever men who knew so much and desired to say only a part and sometimes written very openly but also contradictorily are not immediately self-revealing or self-explanatory we tried both to have a number of researchers look at them and to quote passages liberally. Moreover when we felt we could be challenged with taking something out of context we included the whole paper in the Documentary Record section of the Task Force studies (Parts V and VI. A and B).Again seeking to fend off inevitable mistakes in interpretation and context what seemed to us key documents were reviewed and included in several overlapping in substance but separate studies. UNCLASSIFIED WHEN SEPARATED FROM ENCLOSURE  The people who worked on the Task Force were superbuniformly bright and interested although not always versed in the art of research. Ue had a sense of doing something important and of the need to do it right. Of course we all had our prejudices and axes to grind and these shine through clearly at times but we tried we think to suppress or compensate for them. These outstanding people came from everywhere--the military services State OSD and the \"think tanks.\" Some came for a month for three months for six months and most were unable given the unhappiness of their superiors to finish the studies they began. Almost all the studies had several authors each heir dutifully trying to pick up the threads of his predecessor. In all we had thirty-six professionals working on these studies with an average of four months per man. The quality style and interest of the studies varies considerably. The papers in Parts I II III and IV.A concerning the years 1945 to 1961 tend to be generally non-startling--although there are many interesting tidbits. Because many of the documents in this period were lost or not kept (except for the Geneva Conference era) we had to rely more on outside resources. From 1961 onwards (Parts IV.B and C and VI.C) the records were bountiful especially on the first Kennedy year in office the Diem coup and on the subjects of the deployment of ground forces the decisions surrounding the bombing campaign against North Vietnam US-GVN relations and attempts at negotiating a settlement of the conflict. Almost all the studies contain both a Summary and Analysis and a Chronology. The chronologies highlight each important event or action in the monograph by means of date description and documentary source. The Summary and Analysis sections which I wrote attempt to capture the main themes and facts of the monographsand to make some judgments and speculations which may or may not appear in the text itself. The monographs themselves stick by and large to the documents and do not tend to be analytical. writing history especially where it blends into current events especially where that current event is Vietnam is a treacherous exercise. Ue could not go into the minds of the decision-makers we were not present at the decisions and we often could not tell whether something happened because someone decided it decided against it or most likely because it unfolded from the situation. History to me has been expressed by a passage from Herman Melville\\'s Moby Dick where he writes \"This is a world of chancefree will and necessity all interweavingly working together as one; chance by turn rules either and has the last featuring blow at events.\" Our studies have tried to reflect this thought; inevitably in the organizing and writing process they appear to assign more and less to men and free will than was the case. Encl - Outline of Studies LESLIE H. GELB Chairman OSD Task ForceUNCLASSIFIED WHEN SEPARATED FROM 2 ENCLOSURE.  INDEX  69 OSD VIETNAM TASK FORCE OUTLINE OF STUDIES INDEX (1 Vol.) I. Vietnam and the U.S. 1940-1950 (1 Vol.) A. U.S. Policy 1940-50 B. The Character and Power of the Viet Minh C. Ho Chi Minh Asian Tito? II. U.S. Involvement in the Franco-Viet Minh war 1950-1954 (l Vol.) A. U.S. France and Vietnamese Nationalism B. Toward a Negotiated Settlement III. The Geneva Accords (1 Vol.) A. U.S. Military Planning and Diplomatic Maneuver B. Role and Obligations of State of Vietnam C. Viet Minh Position and Sino-Soviet Strategy D. The Intent of the Geneva Accords IV. Evolution of the war (26 Vols.) A. U.S. MAP for Diem The Eisenhower Commitments 1954-1960 (5 Vols.) 1. NATO and SEATO A Comparison 2. Aid for France in Indochina 1950-541 3. U.S. and France\\'s withdrawal from Vietnam 1954-56 4. U.S. Training of Vietnamese National Army 1954-59 5 Origins of the Insurgency B. Counterinsurgency The Kennedy Commitments I96I-I963 (5 Vols.) 1. The Kennedy Commitments and Programs 1961 2. Strategic Hamlet Program I96I-63 3. The Advisory Build-up 1961-67 4. Phased withdrawal of U.S. Forces in Vietnam 1962-64 5. The Overthrow of Ngo Dinh Diem May-Nov. 1963 C. Direct Action The Johnson Commitments 1964-1968 (16 Vols.) 1. U.S. Programs in South Vietnam November l963-April 1965: NSAM 273 NSAM 288 Honolulu 2. Military Pressures Against NVN (3 Vols.) a. February - June 1964 b. July - October 1964 c. November - December 1964  3. ROLLING THUNDER Program Begins January - June 1965 S CONFIDENTIAL  4. Marine Combat Units Go to DaNang March 1965 5. Phase I in the Build-Up of U.S. Forces March - July 1965 6. U.S. Ground Strategy and Force Deployments 1965 - 1967 (3 Vols.) a. Volume I Phase II Program 3 Program 4 b. Volume II Program 5 c. Volume III Program 6 7. Air war in the North 1965 - 1968 (2 Vols) a. Volume I b. Volume II 8. Re-emphasis on Pacification I965-I967 9. U.S.-GVN Relations (2 Vols.) a. Volume 1 December 1963 - June 1965 b. Volume 2 July 1965 - December 1967 10. Statistical Survey of the war North and South 1965 - 1967 V. Justification of the war (11 Vols.) A. Public Statements (2 Vols.) Volume I AThe Truman Administration BThe Eisenhower Administration CThe Kennedy Administration Volume II DThe Johnson Administration B. Internal Documents (9 Vols.) 1. The Roosevelt Administration 2. The Truman Administration (2 Vols.) a. Volume I 1945-1949b. Volume II 1950-1952 3. The Eisenhower Administration (4 Vols.) a. Volume I 1953 b. Volume II l954-Geneva c. Volume III Geneva Accords - 15 March 1956 d. Volume IV 1956 French withdrawal - 1960 4. The Kennedy Administration (2 Vols.) Book I Book II VI Settlement of the Conflict (6 Vols.) A. Negotiations 1965-67 The Public Record B. Negotiations 1965-67 Announced Position Statements C. Histories of Contacts (4 Vols.) 1. 2. 3. 4. 1965-1966 Polish Track Moscow-London Track 1967-1968 LESLIE H. CffiLB Chairman OSD Task Force 35U10   '"
      ]
     },
     "execution_count": 5,
     "metadata": {},
     "output_type": "execute_result"
    }
   ],
   "source": [
    "input_doc"
   ]
  },
  {
   "cell_type": "code",
   "execution_count": 6,
   "id": "d15ce483",
   "metadata": {},
   "outputs": [
    {
     "name": "stdout",
     "output_type": "stream",
     "text": [
      "EXECUTIVE SECRETARIAT TLE JJ RMM KDA ; r SS-A RHM LA NP SS-I SS-O RTC HHB BF PW SS-S JC TMT JM HCBJ SS-EX ACTION I INFORMATION COMMENTS PLEASE I YOUR FILES FOLLOW UP PER CONVERSATION PLEASE SEECCL;ME REMARKS ELIOT JR. R. H. MILLER R. T. CURRAN X 22540 X23126 X 28448 nOefCCS Regrading Action 35-71 OFFICE OF THE SECRETARY OF DEFENSE REGRADlNG ACTI0N 23 June 1971 froms Control Officer SecDefClassified Control Section Room 3A948 The Pentagon washington D. C. 20301 T0 State Department ATTENTION Document ControlSecurity Officer washington D C 20520DOCUMENT (Typ Office oi origin uaie Subject) CONTROL NUMBER CLASSIFICATION REGRADED TO ! Memorandum for the Secretary of Defense Thru ASDISA and DASD(Policy Planning and Arms Control) OASD(ISA) From Chairman CSD Task Force s Leslie H. Gelb dated 15 January 1969 Subject Final Report OSD Vietnam Task Force (u) w1 Inclosure::::::::: SecDefControl# -02969 CONFIDENTIAL UNCLASSIFIED WHEN SEPARATED FROM INCLOSURJ INCLOSURE # 1 Document Subject OSD Vietnam Task Force Outline of Studies (U) dtd 10 January 1969 n CONFIDENTIAL REMAINS CONFIDENTIAL NOTHING F0LL0WSDocument was forwarded to both Mr. Bundy and 1 If you have any questions concerning this regj SFC william C. Holzer US Army Chief Clerk J The Pentagon. Phone 0X-76131 lr. Katzenback ading action p ecDefClassifi Ln 1969 Lease contact ad Control Sect ion Rm3A948 DEPARTMENT JUL 1 5 OFFICE OF S h STATE 1371 iCURITY The document(e) listed above haehave been regraded and action should be taken to mark copies quested that you notify all recipients to whom additional distribution was furnished. T. B. EDWARDS MAJ USA Control Officer Prlnfad or typad name ot official Signature e n F0RM 7 M 1 MAY 60 CJ ! kJ G4 4 7 6 3 1945 - 1967VIETNAM TASK FORCE OFFICE OF THE SECRETARY OF DEFENSE UNITED STATES VIETNAM RELATIONSSec Def fioat L FINAL REPORT - OSD Task Force Vietnam & INDEX si? ter coot S- 15 January 1969 MEMORANDUM FOR THE SECRETARY OF DEFENSE I THROUGH Mr. Paul C. warnke ASDISA Dr. Morton H. Halperin DASDPolicy Planning and Arms ControlISA SUBJECT Final Report OSD Vietnam Task Force On June 17 19&7 Secretary Robert S. McNamara directed that a Task Force be formed to study the history of United States involvement in Vietnam from world war II to the present. Mr. McNamaras guidance was simply to do studies that were \"encyclopedic and objective.\" with six full-time professionals assigned to the Task Force we were to complete our work in three months. A year and a half later and with the involvement of six times six professionals we are finally done to the tune of thirty-seven studies and fifteen collections of documents contained in forty-three volumes. In the beginning Mr. McNamara gave the Task Force full access to OSD files and the Task Force received access to CIA materials and some use of State Department cables and memoranda we had no access to white House files. Our guidance prohibited personal interviews with any of the principal participants. -The result was not so much a documentary history as a history based solely on documents checked and rechecked with ant-like diligence. Pieces of paper formidable and suggestive by themselves could have meant much or nothing. Perhaps this document was never sent anywhere and perhaps that one though commented upon was irrelevant without the memories of people to tell us we were certain to make mistakes. Yet using those memories might have been misleading as well. This approach to research was bound to lead to distortions and distortions we are sure abound in these studies. To bring the documents to life to fill in gaps and just to see what the \"outside world\" was thinking we turned to newspapers periodicals and books we never used these sources to supplant the classified documents but only to supplement them. And because these documents sometimes written by very clever men who knew so much and desired to say only a part and sometimes written very openly but also contradictorily are not immediately self-revealing or self-explanatory we tried both to have a number of researchers look at them and to quote passages liberally. Moreover when we felt we could be challenged with taking something out of context we included the whole paper in the Documentary Record section of the Task Force studies (Parts V and VI. A and B).Again seeking to fend off inevitable mistakes in interpretation and context what seemed to us key documents were reviewed and included in several overlapping in substance but separate studies. UNCLASSIFIED WHEN SEPARATED FROM ENCLOSURE The people who worked on the Task Force were superbuniformly bright and interested although not always versed in the art of research. Ue had a sense of doing something important and of the need to do it right. Of course we all had our prejudices and axes to grind and these shine through clearly at times but we tried we think to suppress or compensate for them. These outstanding people came from everywhere--the military services State OSD and the \"think tanks.\" Some came for a month for three months for six months and most were unable given the unhappiness of their superiors to finish the studies they began. Almost all the studies had several authors each heir dutifully trying to pick up the threads of his predecessor. In all we had thirty-six professionals working on these studies with an average of four months per man. The quality style and interest of the studies varies considerably. The papers in Parts I II III and IV.A concerning the years 1945 to 1961 tend to be generally non-startling--although there are many interesting tidbits. Because many of the documents in this period were lost or not kept (except for the Geneva Conference era) we had to rely more on outside resources. From 1961 onwards (Parts IV.B and C and VI.C) the records were bountiful especially on the first Kennedy year in office the Diem coup and on the subjects of the deployment of ground forces the decisions surrounding the bombing campaign against North Vietnam US-GVN relations and attempts at negotiating a settlement of the conflict. Almost all the studies contain both a Summary and Analysis and a Chronology. The chronologies highlight each important event or action in the monograph by means of date description and documentary source. The Summary and Analysis sections which I wrote attempt to capture the main themes and facts of the monographsand to make some judgments and speculations which may or may not appear in the text itself. The monographs themselves stick by and large to the documents and do not tend to be analytical. writing history especially where it blends into current events especially where that current event is Vietnam is a treacherous exercise. Ue could not go into the minds of the decision-makers we were not present at the decisions and we often could not tell whether something happened because someone decided it decided against it or most likely because it unfolded from the situation. History to me has been expressed by a passage from Herman Melville's Moby Dick where he writes \"This is a world of chancefree will and necessity all interweavingly working together as one; chance by turn rules either and has the last featuring blow at events.\" Our studies have tried to reflect this thought; inevitably in the organizing and writing process they appear to assign more and less to men and free will than was the case. Encl - Outline of Studies LESLIE H. GELB Chairman OSD Task ForceUNCLASSIFIED WHEN SEPARATED FROM 2 ENCLOSURE. INDEX 69 OSD VIETNAM TASK FORCE OUTLINE OF STUDIES INDEX (1 Vol.) I. Vietnam and the U.S. 1940-1950 (1 Vol.) A. U.S. Policy 1940-50 B. The Character and Power of the Viet Minh C. Ho Chi Minh Asian Tito? II. U.S. Involvement in the Franco-Viet Minh war 1950-1954 (l Vol.) A. U.S. France and Vietnamese Nationalism B. Toward a Negotiated Settlement III. The Geneva Accords (1 Vol.) A. U.S. Military Planning and Diplomatic Maneuver B. Role and Obligations of State of Vietnam C. Viet Minh Position and Sino-Soviet Strategy D. The Intent of the Geneva Accords IV. Evolution of the war (26 Vols.) A. U.S. MAP for Diem The Eisenhower Commitments 1954-1960 (5 Vols.) 1. NATO and SEATO A Comparison 2. Aid for France in Indochina 1950-541 3. U.S. and France's withdrawal from Vietnam 1954-56 4. U.S. Training of Vietnamese National Army 1954-59 5 Origins of the Insurgency B. Counterinsurgency The Kennedy Commitments I96I-I963 (5 Vols.) 1. The Kennedy Commitments and Programs 1961 2. Strategic Hamlet Program I96I-63 3. The Advisory Build-up 1961-67 4. Phased withdrawal of U.S. Forces in Vietnam 1962-64 5. The Overthrow of Ngo Dinh Diem May-Nov. 1963 C. Direct Action The Johnson Commitments 1964-1968 (16 Vols.) 1. U.S. Programs in South Vietnam November l963-April 1965: NSAM 273 NSAM 288 Honolulu 2. Military Pressures Against NVN (3 Vols.) a. February - June 1964 b. July - October 1964 c. November - December 1964 3. ROLLING THUNDER Program Begins January - June 1965 S CONFIDENTIAL 4. Marine Combat Units Go to DaNang March 1965 5. Phase I in the Build-Up of U.S. Forces March - July 1965 6. U.S. Ground Strategy and Force Deployments 1965 - 1967 (3 Vols.) a. Volume I Phase II Program 3 Program 4 b. Volume II Program 5 c. Volume III Program 6 7. Air war in the North 1965 - 1968 (2 Vols) a. Volume I b. Volume II 8. Re-emphasis on Pacification I965-I967 9. U.S.-GVN Relations (2 Vols.) a. Volume 1 December 1963 - June 1965 b. Volume 2 July 1965 - December 1967 10. Statistical Survey of the war North and South 1965 - 1967 V. Justification of the war (11 Vols.) A. Public Statements (2 Vols.) Volume I AThe Truman Administration BThe Eisenhower Administration CThe Kennedy Administration Volume II DThe Johnson Administration B. Internal Documents (9 Vols.) 1. The Roosevelt Administration 2. The Truman Administration (2 Vols.) a. Volume I 1945-1949b. Volume II 1950-1952 3. The Eisenhower Administration (4 Vols.) a. Volume I 1953 b. Volume II l954-Geneva c. Volume III Geneva Accords - 15 March 1956 d. Volume IV 1956 French withdrawal - 1960 4. The Kennedy Administration (2 Vols.) Book I Book II VI Settlement of the Conflict (6 Vols.) A. Negotiations 1965-67 The Public Record B. Negotiations 1965-67 Announced Position Statements C. Histories of Contacts (4 Vols.) 1. 2. 3. 4. 1965-1966 Polish Track Moscow-London Track 1967-1968 LESLIE H. CffiLB Chairman OSD Task Force 35U10\n"
     ]
    }
   ],
   "source": [
    "#attempting to clean ASCII format\n",
    "text_encode = input_doc.encode(encoding=\"ascii\", errors = \"ignore\")\n",
    "text_decode = text_encode.decode()\n",
    "decoded_text = \" \".join([word for word in text_decode.split()])\n",
    "print(decoded_text)"
   ]
  },
  {
   "cell_type": "code",
   "execution_count": 7,
   "id": "5b5c20ac",
   "metadata": {},
   "outputs": [],
   "source": [
    "pp_index = decoded_text"
   ]
  },
  {
   "cell_type": "code",
   "execution_count": 8,
   "id": "2fdad3b8",
   "metadata": {},
   "outputs": [],
   "source": [
    "#attempting to create a function to clean ASCII messes for all documents \n",
    "def clean_ASCII(original_document): \n",
    "    text_encode = input_doc.encode(encoding=\"ascii\", errors = \"ignore\")\n",
    "    text_decode = text_encode.decode()\n",
    "    cleaned_text = \" \".join([word for word in text_decode.split()])\n",
    "   \n",
    "    \n",
    "    return cleaned_text"
   ]
  },
  {
   "cell_type": "code",
   "execution_count": 9,
   "id": "490fa067",
   "metadata": {},
   "outputs": [
    {
     "name": "stdout",
     "output_type": "stream",
     "text": [
      "EXECUTIVE SECRETARIAT TLE JJ RMM KDA ; r SS-A RHM LA NP SS-I SS-O RTC HHB BF PW SS-S JC TMT JM HCBJ SS-EX ACTION I INFORMATION COMMENTS PLEASE I YOUR FILES FOLLOW UP PER CONVERSATION PLEASE SEECCL;ME REMARKS ELIOT JR. R. H. MILLER R. T. CURRAN X 22540 X23126 X 28448 nOefCCS Regrading Action 35-71 OFFICE OF THE SECRETARY OF DEFENSE REGRADlNG ACTI0N 23 June 1971 froms Control Officer SecDefClassified Control Section Room 3A948 The Pentagon washington D. C. 20301 T0 State Department ATTENTION Document ControlSecurity Officer washington D C 20520DOCUMENT (Typ Office oi origin uaie Subject) CONTROL NUMBER CLASSIFICATION REGRADED TO ! Memorandum for the Secretary of Defense Thru ASDISA and DASD(Policy Planning and Arms Control) OASD(ISA) From Chairman CSD Task Force s Leslie H. Gelb dated 15 January 1969 Subject Final Report OSD Vietnam Task Force (u) w1 Inclosure::::::::: SecDefControl# -02969 CONFIDENTIAL UNCLASSIFIED WHEN SEPARATED FROM INCLOSURJ INCLOSURE # 1 Document Subject OSD Vietnam Task Force Outline of Studies (U) dtd 10 January 1969 n CONFIDENTIAL REMAINS CONFIDENTIAL NOTHING F0LL0WSDocument was forwarded to both Mr. Bundy and 1 If you have any questions concerning this regj SFC william C. Holzer US Army Chief Clerk J The Pentagon. Phone 0X-76131 lr. Katzenback ading action p ecDefClassifi Ln 1969 Lease contact ad Control Sect ion Rm3A948 DEPARTMENT JUL 1 5 OFFICE OF S h STATE 1371 iCURITY The document(e) listed above haehave been regraded and action should be taken to mark copies quested that you notify all recipients to whom additional distribution was furnished. T. B. EDWARDS MAJ USA Control Officer Prlnfad or typad name ot official Signature e n F0RM 7 M 1 MAY 60 CJ ! kJ G4 4 7 6 3 1945 - 1967VIETNAM TASK FORCE OFFICE OF THE SECRETARY OF DEFENSE UNITED STATES VIETNAM RELATIONSSec Def fioat L FINAL REPORT - OSD Task Force Vietnam & INDEX si? ter coot S- 15 January 1969 MEMORANDUM FOR THE SECRETARY OF DEFENSE I THROUGH Mr. Paul C. warnke ASDISA Dr. Morton H. Halperin DASDPolicy Planning and Arms ControlISA SUBJECT Final Report OSD Vietnam Task Force On June 17 19&7 Secretary Robert S. McNamara directed that a Task Force be formed to study the history of United States involvement in Vietnam from world war II to the present. Mr. McNamaras guidance was simply to do studies that were \"encyclopedic and objective.\" with six full-time professionals assigned to the Task Force we were to complete our work in three months. A year and a half later and with the involvement of six times six professionals we are finally done to the tune of thirty-seven studies and fifteen collections of documents contained in forty-three volumes. In the beginning Mr. McNamara gave the Task Force full access to OSD files and the Task Force received access to CIA materials and some use of State Department cables and memoranda we had no access to white House files. Our guidance prohibited personal interviews with any of the principal participants. -The result was not so much a documentary history as a history based solely on documents checked and rechecked with ant-like diligence. Pieces of paper formidable and suggestive by themselves could have meant much or nothing. Perhaps this document was never sent anywhere and perhaps that one though commented upon was irrelevant without the memories of people to tell us we were certain to make mistakes. Yet using those memories might have been misleading as well. This approach to research was bound to lead to distortions and distortions we are sure abound in these studies. To bring the documents to life to fill in gaps and just to see what the \"outside world\" was thinking we turned to newspapers periodicals and books we never used these sources to supplant the classified documents but only to supplement them. And because these documents sometimes written by very clever men who knew so much and desired to say only a part and sometimes written very openly but also contradictorily are not immediately self-revealing or self-explanatory we tried both to have a number of researchers look at them and to quote passages liberally. Moreover when we felt we could be challenged with taking something out of context we included the whole paper in the Documentary Record section of the Task Force studies (Parts V and VI. A and B).Again seeking to fend off inevitable mistakes in interpretation and context what seemed to us key documents were reviewed and included in several overlapping in substance but separate studies. UNCLASSIFIED WHEN SEPARATED FROM ENCLOSURE The people who worked on the Task Force were superbuniformly bright and interested although not always versed in the art of research. Ue had a sense of doing something important and of the need to do it right. Of course we all had our prejudices and axes to grind and these shine through clearly at times but we tried we think to suppress or compensate for them. These outstanding people came from everywhere--the military services State OSD and the \"think tanks.\" Some came for a month for three months for six months and most were unable given the unhappiness of their superiors to finish the studies they began. Almost all the studies had several authors each heir dutifully trying to pick up the threads of his predecessor. In all we had thirty-six professionals working on these studies with an average of four months per man. The quality style and interest of the studies varies considerably. The papers in Parts I II III and IV.A concerning the years 1945 to 1961 tend to be generally non-startling--although there are many interesting tidbits. Because many of the documents in this period were lost or not kept (except for the Geneva Conference era) we had to rely more on outside resources. From 1961 onwards (Parts IV.B and C and VI.C) the records were bountiful especially on the first Kennedy year in office the Diem coup and on the subjects of the deployment of ground forces the decisions surrounding the bombing campaign against North Vietnam US-GVN relations and attempts at negotiating a settlement of the conflict. Almost all the studies contain both a Summary and Analysis and a Chronology. The chronologies highlight each important event or action in the monograph by means of date description and documentary source. The Summary and Analysis sections which I wrote attempt to capture the main themes and facts of the monographsand to make some judgments and speculations which may or may not appear in the text itself. The monographs themselves stick by and large to the documents and do not tend to be analytical. writing history especially where it blends into current events especially where that current event is Vietnam is a treacherous exercise. Ue could not go into the minds of the decision-makers we were not present at the decisions and we often could not tell whether something happened because someone decided it decided against it or most likely because it unfolded from the situation. History to me has been expressed by a passage from Herman Melville's Moby Dick where he writes \"This is a world of chancefree will and necessity all interweavingly working together as one; chance by turn rules either and has the last featuring blow at events.\" Our studies have tried to reflect this thought; inevitably in the organizing and writing process they appear to assign more and less to men and free will than was the case. Encl - Outline of Studies LESLIE H. GELB Chairman OSD Task ForceUNCLASSIFIED WHEN SEPARATED FROM 2 ENCLOSURE. INDEX 69 OSD VIETNAM TASK FORCE OUTLINE OF STUDIES INDEX (1 Vol.) I. Vietnam and the U.S. 1940-1950 (1 Vol.) A. U.S. Policy 1940-50 B. The Character and Power of the Viet Minh C. Ho Chi Minh Asian Tito? II. U.S. Involvement in the Franco-Viet Minh war 1950-1954 (l Vol.) A. U.S. France and Vietnamese Nationalism B. Toward a Negotiated Settlement III. The Geneva Accords (1 Vol.) A. U.S. Military Planning and Diplomatic Maneuver B. Role and Obligations of State of Vietnam C. Viet Minh Position and Sino-Soviet Strategy D. The Intent of the Geneva Accords IV. Evolution of the war (26 Vols.) A. U.S. MAP for Diem The Eisenhower Commitments 1954-1960 (5 Vols.) 1. NATO and SEATO A Comparison 2. Aid for France in Indochina 1950-541 3. U.S. and France's withdrawal from Vietnam 1954-56 4. U.S. Training of Vietnamese National Army 1954-59 5 Origins of the Insurgency B. Counterinsurgency The Kennedy Commitments I96I-I963 (5 Vols.) 1. The Kennedy Commitments and Programs 1961 2. Strategic Hamlet Program I96I-63 3. The Advisory Build-up 1961-67 4. Phased withdrawal of U.S. Forces in Vietnam 1962-64 5. The Overthrow of Ngo Dinh Diem May-Nov. 1963 C. Direct Action The Johnson Commitments 1964-1968 (16 Vols.) 1. U.S. Programs in South Vietnam November l963-April 1965: NSAM 273 NSAM 288 Honolulu 2. Military Pressures Against NVN (3 Vols.) a. February - June 1964 b. July - October 1964 c. November - December 1964 3. ROLLING THUNDER Program Begins January - June 1965 S CONFIDENTIAL 4. Marine Combat Units Go to DaNang March 1965 5. Phase I in the Build-Up of U.S. Forces March - July 1965 6. U.S. Ground Strategy and Force Deployments 1965 - 1967 (3 Vols.) a. Volume I Phase II Program 3 Program 4 b. Volume II Program 5 c. Volume III Program 6 7. Air war in the North 1965 - 1968 (2 Vols) a. Volume I b. Volume II 8. Re-emphasis on Pacification I965-I967 9. U.S.-GVN Relations (2 Vols.) a. Volume 1 December 1963 - June 1965 b. Volume 2 July 1965 - December 1967 10. Statistical Survey of the war North and South 1965 - 1967 V. Justification of the war (11 Vols.) A. Public Statements (2 Vols.) Volume I AThe Truman Administration BThe Eisenhower Administration CThe Kennedy Administration Volume II DThe Johnson Administration B. Internal Documents (9 Vols.) 1. The Roosevelt Administration 2. The Truman Administration (2 Vols.) a. Volume I 1945-1949b. Volume II 1950-1952 3. The Eisenhower Administration (4 Vols.) a. Volume I 1953 b. Volume II l954-Geneva c. Volume III Geneva Accords - 15 March 1956 d. Volume IV 1956 French withdrawal - 1960 4. The Kennedy Administration (2 Vols.) Book I Book II VI Settlement of the Conflict (6 Vols.) A. Negotiations 1965-67 The Public Record B. Negotiations 1965-67 Announced Position Statements C. Histories of Contacts (4 Vols.) 1. 2. 3. 4. 1965-1966 Polish Track Moscow-London Track 1967-1968 LESLIE H. CffiLB Chairman OSD Task Force 35U10\n"
     ]
    }
   ],
   "source": [
    "pp_part_1= clean_ASCII(input_doc)\n",
    "print(pp_part_1)"
   ]
  },
  {
   "cell_type": "code",
   "execution_count": 11,
   "id": "fcaac994",
   "metadata": {},
   "outputs": [
    {
     "name": "stdout",
     "output_type": "stream",
     "text": [
      "This is an example text file ///...////////.............///////////////^^^^^^^^^^.and here is my example of things I am trying to remove from the file\\\\*\\\\sone Declassified per Executive Order 13526, Section 3.3 TOP SECRET - Sensitive NND Project Number: NND 66316. By: NWD Date: 2011\n"
     ]
    }
   ],
   "source": [
    "path = Path('example_dirty_file.txt')\n",
    "input_doc = open(path, encoding = 'utf-8').read()\n",
    "clean_ASCII(input_doc)\n",
    "example_dirty_file= clean_ASCII(input_doc)\n",
    "print(example_dirty_file)"
   ]
  },
  {
   "cell_type": "code",
   "execution_count": 12,
   "id": "eabba43f",
   "metadata": {},
   "outputs": [
    {
     "name": "stdout",
     "output_type": "stream",
     "text": [
      "This is an example text file //.///////..///////////////^^^^^^^^^^.andhere is my example of things I am trying to remove from the file*some   \n"
     ]
    }
   ],
   "source": [
    "example_dirty_file= re.sub(r\".(\\.\\.)\",'', example_dirty_file) #removes two periods, replaces with one space\n",
    "example_dirty_file = re.sub(r\".(\\.\\.\\.\\.+)\",'', example_dirty_file) #removes any more than four periods, replaces with one space\n",
    "example_dirty_file = re.sub(r\"(  +)\",' ', example_dirty_file) #removes more than one space, replaces with one space\n",
    "example_dirty_file = re.sub(r\"(\\\\\\\\)\",\"\", example_dirty_file) #supposedly removes multiple slashes\n",
    "example_dirty_file = re.sub(r\"\\\\^\\\\\",\"\", example_dirty_file) #supposedly removes carret character (^)\n",
    "example_dirty_file = re.sub(r\"\\\\*\\\\\",\"\", example_dirty_file) #supposedly removes * astrick character\n",
    "example_dirty_file = re.sub(\"sone\", \"some\", example_dirty_file) \n",
    "example_dirty_file = re.sub('and.', 'and', example_dirty_file)\n",
    "example_dirty_file = re.sub(\"Declassified per Executive Order 13526, Section 3.3\", \"\", example_dirty_file)\n",
    "example_dirty_file = re.sub('NND Project Number: NND 66316. By: NWD Date: 2011', '', example_dirty_file)\n",
    "example_dirty_file = re.sub('TOP SECRET - Sensitive', '', example_dirty_file)\n",
    "\n",
    "print(example_dirty_file)"
   ]
  },
  {
   "cell_type": "code",
   "execution_count": 10,
   "id": "90ca4875",
   "metadata": {},
   "outputs": [],
   "source": [
    "path = Path('../../Pentagon_Papers_Text_Files/Pentagon-Papers-Part-II-text.txt')\n",
    "input_doc = open(path, encoding = 'utf-8').read()\n",
    "clean_ASCII(input_doc)\n",
    "pp_part_2= clean_ASCII(input_doc)\n",
    "# print(pp_part_2)"
   ]
  },
  {
   "cell_type": "code",
   "execution_count": 11,
   "id": "42ea8376",
   "metadata": {},
   "outputs": [],
   "source": [
    "path = Path('../../Pentagon_Papers_Text_Files/Pentagon-Papers-Part-III-text.txt')\n",
    "input_doc = open(path, encoding = 'utf-8').read()\n",
    "clean_ASCII(input_doc)\n",
    "pp_part_3= clean_ASCII(input_doc)\n",
    "# print(pp_part_3)"
   ]
  },
  {
   "cell_type": "code",
   "execution_count": 12,
   "id": "47cde088",
   "metadata": {},
   "outputs": [],
   "source": [
    "path = Path('../../Pentagon_Papers_Text_Files/Pentagon-Papers-Part-IV-A-1-text.txt')\n",
    "input_doc = open(path, encoding = 'utf-8').read()\n",
    "clean_ASCII(input_doc)\n",
    "pp_part_4_a_1= clean_ASCII(input_doc)\n",
    "# print(pp_part_4_a_1)"
   ]
  },
  {
   "cell_type": "code",
   "execution_count": 13,
   "id": "0127db62",
   "metadata": {},
   "outputs": [],
   "source": [
    "path = Path('../../Pentagon_Papers_Text_Files/Pentagon-Papers-Part-IV-A-2-text.txt')\n",
    "input_doc = open(path, encoding = 'utf-8').read()\n",
    "clean_ASCII(input_doc)\n",
    "pp_part_4_a_2= clean_ASCII(input_doc)\n",
    "# print(pp_part_4_a_2)"
   ]
  },
  {
   "cell_type": "code",
   "execution_count": 14,
   "id": "08f2bf41",
   "metadata": {},
   "outputs": [],
   "source": [
    "path = Path('../../Pentagon_Papers_Text_Files/Pentagon-Papers-Part-IV-A-3-text.txt')\n",
    "input_doc = open(path, encoding = 'utf-8').read()\n",
    "clean_ASCII(input_doc)\n",
    "pp_part_4_a_3= clean_ASCII(input_doc)\n",
    "# print(pp_part_4_a_2)"
   ]
  },
  {
   "cell_type": "code",
   "execution_count": 15,
   "id": "65c2ddfc",
   "metadata": {},
   "outputs": [],
   "source": [
    "path = Path('../../Pentagon_Papers_Text_Files/Pentagon-Papers-Part-IV-A-4-text.txt')\n",
    "input_doc = open(path, encoding = 'utf-8').read()\n",
    "clean_ASCII(input_doc)\n",
    "pp_part_4_a_4= clean_ASCII(input_doc)\n",
    "# print(pp_part_4_a_2)"
   ]
  },
  {
   "cell_type": "code",
   "execution_count": 16,
   "id": "f5b75e62",
   "metadata": {},
   "outputs": [],
   "source": [
    "path = Path('../../Pentagon_Papers_Text_Files/Pentagon-Papers-Part-IV-A-5-text.txt')\n",
    "input_doc = open(path, encoding = 'utf-8').read()\n",
    "clean_ASCII(input_doc)\n",
    "pp_part_4_a_5= clean_ASCII(input_doc)\n",
    "# print(pp_part_4_a_2)"
   ]
  },
  {
   "cell_type": "code",
   "execution_count": 17,
   "id": "4ef13a85",
   "metadata": {},
   "outputs": [],
   "source": [
    "path = Path('../../Pentagon_Papers_Text_Files/Pentagon-Papers-Part-IV-B-1.txt')\n",
    "input_doc = open(path, encoding = 'utf-8').read()\n",
    "clean_ASCII(input_doc)\n",
    "pp_part_4_b_1= clean_ASCII(input_doc)\n",
    "# print(pp_part_4_a_2)"
   ]
  },
  {
   "cell_type": "code",
   "execution_count": 18,
   "id": "b51a319d",
   "metadata": {},
   "outputs": [],
   "source": [
    "path = Path('../../Pentagon_Papers_Text_Files/Pentagon-Papers-Part-IV-B-2.txt')\n",
    "input_doc = open(path, encoding = 'utf-8').read()\n",
    "clean_ASCII(input_doc)\n",
    "pp_part_4_b_2= clean_ASCII(input_doc)\n",
    "# print(pp_part_4_a_2)"
   ]
  },
  {
   "cell_type": "code",
   "execution_count": 19,
   "id": "836bd132",
   "metadata": {},
   "outputs": [],
   "source": [
    "path = Path('../../Pentagon_Papers_Text_Files/Pentagon-Papers-Part-IV-B-3.txt')\n",
    "input_doc = open(path, encoding = 'utf-8').read()\n",
    "clean_ASCII(input_doc)\n",
    "pp_part_4_b_3= clean_ASCII(input_doc)\n",
    "# print(pp_part_4_a_2)"
   ]
  },
  {
   "cell_type": "code",
   "execution_count": 20,
   "id": "fc2c481b",
   "metadata": {},
   "outputs": [],
   "source": [
    "path = Path('../../Pentagon_Papers_Text_Files/Pentagon-Papers-Part-IV-B-4.txt')\n",
    "input_doc = open(path, encoding = 'utf-8').read()\n",
    "clean_ASCII(input_doc)\n",
    "pp_part_4_b_4= clean_ASCII(input_doc)\n",
    "# print(pp_part_4_a_2)"
   ]
  },
  {
   "cell_type": "code",
   "execution_count": 21,
   "id": "09814512",
   "metadata": {},
   "outputs": [],
   "source": [
    "path = Path('../../Pentagon_Papers_Text_Files/Pentagon-Papers-Part-IV-B-5.txt')\n",
    "input_doc = open(path, encoding = 'utf-8').read()\n",
    "clean_ASCII(input_doc)\n",
    "pp_part_4_b_5= clean_ASCII(input_doc)\n",
    "# print(pp_part_4_a_2)"
   ]
  },
  {
   "cell_type": "code",
   "execution_count": 22,
   "id": "63e48da6",
   "metadata": {},
   "outputs": [],
   "source": [
    "path = Path('../../Pentagon_Papers_Text_Files/Pentagon-Papers-Part-IV-C-1.txt')\n",
    "input_doc = open(path, encoding = 'utf-8').read()\n",
    "clean_ASCII(input_doc)\n",
    "pp_part_4_c_1= clean_ASCII(input_doc)\n",
    "# print(pp_part_4_a_2)"
   ]
  },
  {
   "cell_type": "code",
   "execution_count": 23,
   "id": "672c2ca6",
   "metadata": {},
   "outputs": [],
   "source": [
    "path = Path('../../Pentagon_Papers_Text_Files/Pentagon-Papers-Part-IV-C-2a.txt')\n",
    "input_doc = open(path, encoding = 'utf-8').read()\n",
    "clean_ASCII(input_doc)\n",
    "pp_part_4_c_2a= clean_ASCII(input_doc)\n",
    "# print(pp_part_4_a_2)"
   ]
  },
  {
   "cell_type": "code",
   "execution_count": 24,
   "id": "e9ae946b",
   "metadata": {},
   "outputs": [],
   "source": [
    "path = Path('../../Pentagon_Papers_Text_Files/Pentagon-Papers-Part-IV-C-2b.txt')\n",
    "input_doc = open(path, encoding = 'utf-8').read()\n",
    "clean_ASCII(input_doc)\n",
    "pp_part_4_c_2b= clean_ASCII(input_doc)\n",
    "# print(pp_part_4_a_2)"
   ]
  },
  {
   "cell_type": "code",
   "execution_count": 25,
   "id": "e16a1357",
   "metadata": {},
   "outputs": [],
   "source": [
    "path = Path('../../Pentagon_Papers_Text_Files/Pentagon-Papers-Part-IV-C-2c.txt')\n",
    "input_doc = open(path, encoding = 'utf-8').read()\n",
    "clean_ASCII(input_doc)\n",
    "pp_part_4_c_2c= clean_ASCII(input_doc)\n",
    "# print(pp_part_4_a_2)"
   ]
  },
  {
   "cell_type": "code",
   "execution_count": 26,
   "id": "5a24e3d3",
   "metadata": {},
   "outputs": [],
   "source": [
    "path = Path('../../Pentagon_Papers_Text_Files/Pentagon-Papers-Part-IV-C-3.txt')\n",
    "input_doc = open(path, encoding = 'utf-8').read()\n",
    "clean_ASCII(input_doc)\n",
    "pp_part_4_c_3= clean_ASCII(input_doc)\n",
    "# print(pp_part_4_a_2)"
   ]
  },
  {
   "cell_type": "code",
   "execution_count": 27,
   "id": "1a404b75",
   "metadata": {},
   "outputs": [],
   "source": [
    "path = Path('../../Pentagon_Papers_Text_Files/Pentagon-Papers-Part-IV-C-4.txt')\n",
    "input_doc = open(path, encoding = 'utf-8').read()\n",
    "clean_ASCII(input_doc)\n",
    "pp_part_4_c_4= clean_ASCII(input_doc)\n",
    "# print(pp_part_4_a_2)"
   ]
  },
  {
   "cell_type": "code",
   "execution_count": 28,
   "id": "843b2457",
   "metadata": {},
   "outputs": [],
   "source": [
    "path = Path('../../Pentagon_Papers_Text_Files/Pentagon-Papers-Part-IV-C-5.txt')\n",
    "input_doc = open(path, encoding = 'utf-8').read()\n",
    "clean_ASCII(input_doc)\n",
    "pp_part_4_c_5= clean_ASCII(input_doc)\n",
    "# print(pp_part_4_a_2)"
   ]
  },
  {
   "cell_type": "code",
   "execution_count": 29,
   "id": "02d72e49",
   "metadata": {},
   "outputs": [],
   "source": [
    "path = Path('../../Pentagon_Papers_Text_Files/Pentagon-Papers-Part-IV-C-6-a.txt')\n",
    "input_doc = open(path, encoding = 'utf-8').read()\n",
    "clean_ASCII(input_doc)\n",
    "pp_part_4_c_6_a= clean_ASCII(input_doc)\n",
    "# print(pp_part_4_a_2)"
   ]
  },
  {
   "cell_type": "code",
   "execution_count": 30,
   "id": "60ce9757",
   "metadata": {},
   "outputs": [],
   "source": [
    "path = Path('../../Pentagon_Papers_Text_Files/Pentagon-Papers-Part-IV-C-6-b.txt')\n",
    "input_doc = open(path, encoding = 'utf-8').read()\n",
    "clean_ASCII(input_doc)\n",
    "pp_part_4_c_6_b= clean_ASCII(input_doc)\n",
    "# print(pp_part_4_a_2)"
   ]
  },
  {
   "cell_type": "code",
   "execution_count": 31,
   "id": "7b92e213",
   "metadata": {},
   "outputs": [],
   "source": [
    "path = Path('../../Pentagon_Papers_Text_Files/Pentagon-Papers-Part-IV-C-6-c.txt')\n",
    "input_doc = open(path, encoding = 'utf-8').read()\n",
    "clean_ASCII(input_doc)\n",
    "pp_part_4_c_6_c= clean_ASCII(input_doc)\n",
    "# print(pp_part_4_a_2)"
   ]
  },
  {
   "cell_type": "code",
   "execution_count": 32,
   "id": "ea0bf67c",
   "metadata": {},
   "outputs": [],
   "source": [
    "path = Path('../../Pentagon_Papers_Text_Files/Pentagon-Papers-Part-IV-C-7-a.txt')\n",
    "input_doc = open(path, encoding = 'utf-8').read()\n",
    "clean_ASCII(input_doc)\n",
    "pp_part_4_c_7_a= clean_ASCII(input_doc)\n",
    "# print(pp_part_4_a_2)"
   ]
  },
  {
   "cell_type": "code",
   "execution_count": 33,
   "id": "967629b7",
   "metadata": {},
   "outputs": [],
   "source": [
    "path = Path('../../Pentagon_Papers_Text_Files/Pentagon-Papers-Part-IV-C-7-b.txt')\n",
    "input_doc = open(path, encoding = 'utf-8').read()\n",
    "clean_ASCII(input_doc)\n",
    "pp_part_4_c_7_b= clean_ASCII(input_doc)\n",
    "# print(pp_part_4_a_2)"
   ]
  },
  {
   "cell_type": "code",
   "execution_count": 34,
   "id": "8e8e38ba",
   "metadata": {},
   "outputs": [],
   "source": [
    "path = Path('../../Pentagon_Papers_Text_Files/Pentagon-Papers-Part-IV-C-8.txt')\n",
    "input_doc = open(path, encoding = 'utf-8').read()\n",
    "clean_ASCII(input_doc)\n",
    "pp_part_4_c_8= clean_ASCII(input_doc)\n",
    "# print(pp_part_4_a_2)"
   ]
  },
  {
   "cell_type": "code",
   "execution_count": 35,
   "id": "f40efd7f",
   "metadata": {},
   "outputs": [],
   "source": [
    "path = Path('../../Pentagon_Papers_Text_Files/Pentagon-Papers-Part-IV-C-9a.txt')\n",
    "input_doc = open(path, encoding = 'utf-8').read()\n",
    "clean_ASCII(input_doc)\n",
    "pp_part_4_c_9a = clean_ASCII(input_doc)\n",
    "# print(pp_part_4_a_2)"
   ]
  },
  {
   "cell_type": "code",
   "execution_count": 36,
   "id": "76c61b63",
   "metadata": {},
   "outputs": [],
   "source": [
    "path = Path('../../Pentagon_Papers_Text_Files/Pentagon-Papers-Part-IV-C-9b.txt')\n",
    "input_doc = open(path, encoding = 'utf-8').read()\n",
    "clean_ASCII(input_doc)\n",
    "pp_part_4_c_9b= clean_ASCII(input_doc)\n",
    "# print(pp_part_4_a_2)"
   ]
  },
  {
   "cell_type": "code",
   "execution_count": 37,
   "id": "4b61500e",
   "metadata": {},
   "outputs": [],
   "source": [
    "path = Path('../../Pentagon_Papers_Text_Files/Pentagon-Papers-Part-V-A-Vol-IA.txt')\n",
    "input_doc = open(path, encoding = 'utf-8').read()\n",
    "clean_ASCII(input_doc)\n",
    "pp_part_5_a_vol_ia= clean_ASCII(input_doc)\n",
    "# print(pp_part_4_a_2)"
   ]
  },
  {
   "cell_type": "code",
   "execution_count": 38,
   "id": "fcccf408",
   "metadata": {},
   "outputs": [],
   "source": [
    "path = Path('../../Pentagon_Papers_Text_Files/Pentagon-Papers-Part-V-A-Vol-IB.txt')\n",
    "input_doc = open(path, encoding = 'utf-8').read()\n",
    "clean_ASCII(input_doc)\n",
    "pp_part_5_a_vol_ib= clean_ASCII(input_doc)\n",
    "# print(pp_part_4_a_2)"
   ]
  },
  {
   "cell_type": "code",
   "execution_count": 39,
   "id": "790a1c4e",
   "metadata": {},
   "outputs": [],
   "source": [
    "path = Path('../../Pentagon_Papers_Text_Files/Pentagon-Papers-Part-V-A-Vol-IC.txt')\n",
    "input_doc = open(path, encoding = 'utf-8').read()\n",
    "clean_ASCII(input_doc)\n",
    "pp_part_5_a_vol_ic= clean_ASCII(input_doc)\n",
    "# print(pp_part_4_a_2)"
   ]
  },
  {
   "cell_type": "code",
   "execution_count": 40,
   "id": "3ef81327",
   "metadata": {},
   "outputs": [],
   "source": [
    "path = Path('../../Pentagon_Papers_Text_Files/Pentagon-Papers-Part-V-A-Vol-IID.txt')\n",
    "input_doc = open(path, encoding = 'utf-8').read()\n",
    "clean_ASCII(input_doc)\n",
    "pp_part_5_a_vol_iid= clean_ASCII(input_doc)\n",
    "# print(pp_part_4_a_2)"
   ]
  },
  {
   "cell_type": "code",
   "execution_count": 41,
   "id": "5285b70e",
   "metadata": {},
   "outputs": [],
   "source": [
    "path = Path('../../Pentagon_Papers_Text_Files/Pentagon-Papers-Part-V-B1.txt')\n",
    "input_doc = open(path, encoding = 'utf-8').read()\n",
    "clean_ASCII(input_doc)\n",
    "pp_part_5_b_1= clean_ASCII(input_doc)\n",
    "# print(pp_part_4_a_2)"
   ]
  },
  {
   "cell_type": "code",
   "execution_count": 42,
   "id": "c269c765",
   "metadata": {},
   "outputs": [],
   "source": [
    "path = Path('../../Pentagon_Papers_Text_Files/Pentagon-Papers-Part-V-B-2a.txt')\n",
    "input_doc = open(path, encoding = 'utf-8').read()\n",
    "clean_ASCII(input_doc)\n",
    "pp_part_5_b_2a= clean_ASCII(input_doc)\n",
    "# print(pp_part_4_a_2)"
   ]
  },
  {
   "cell_type": "code",
   "execution_count": 43,
   "id": "0028e048",
   "metadata": {},
   "outputs": [],
   "source": [
    "path = Path('../../Pentagon_Papers_Text_Files/Pentagon-Papers-Part-V-B-2b.txt')\n",
    "input_doc = open(path, encoding = 'utf-8').read()\n",
    "clean_ASCII(input_doc)\n",
    "pp_part_5_b_2b= clean_ASCII(input_doc)\n",
    "# print(pp_part_4_a_2)"
   ]
  },
  {
   "cell_type": "code",
   "execution_count": 44,
   "id": "0f66d804",
   "metadata": {},
   "outputs": [],
   "source": [
    "path = Path('../../Pentagon_Papers_Text_Files/Pentagon-Papers-Part-V-B-3a.txt')\n",
    "input_doc = open(path, encoding = 'utf-8').read()\n",
    "clean_ASCII(input_doc)\n",
    "pp_part_5_b_3a= clean_ASCII(input_doc)\n",
    "# print(pp_part_4_a_2)"
   ]
  },
  {
   "cell_type": "code",
   "execution_count": 45,
   "id": "a10c3222",
   "metadata": {},
   "outputs": [],
   "source": [
    "path = Path('../../Pentagon_Papers_Text_Files/Pentagon-Papers-Part-V-B-3b.txt')\n",
    "input_doc = open(path, encoding = 'utf-8').read()\n",
    "clean_ASCII(input_doc)\n",
    "pp_part_5_b_3b= clean_ASCII(input_doc)\n",
    "# print(pp_part_4_a_2)"
   ]
  },
  {
   "cell_type": "code",
   "execution_count": 46,
   "id": "44f807f7",
   "metadata": {},
   "outputs": [],
   "source": [
    "path = Path('../../Pentagon_Papers_Text_Files/Pentagon-Papers-Part-V-B-3c.txt')\n",
    "input_doc = open(path, encoding = 'utf-8').read()\n",
    "clean_ASCII(input_doc)\n",
    "pp_part_5_b_3c= clean_ASCII(input_doc)\n",
    "# print(pp_part_4_a_2)"
   ]
  },
  {
   "cell_type": "code",
   "execution_count": 47,
   "id": "102cfdda",
   "metadata": {},
   "outputs": [],
   "source": [
    "path = Path('../../Pentagon_Papers_Text_Files/Pentagon-Papers-Part-V-B-3d.txt')\n",
    "input_doc = open(path, encoding = 'utf-8').read()\n",
    "clean_ASCII(input_doc)\n",
    "pp_part_5_b_3d= clean_ASCII(input_doc)\n",
    "# print(pp_part_4_a_2)"
   ]
  },
  {
   "cell_type": "code",
   "execution_count": 48,
   "id": "1f5f2eed",
   "metadata": {},
   "outputs": [],
   "source": [
    "path = Path('../../Pentagon_Papers_Text_Files/Pentagon-Papers-Part-V-B-4-Book-I.txt')\n",
    "input_doc = open(path, encoding = 'utf-8').read()\n",
    "clean_ASCII(input_doc)\n",
    "pp_part_5_b_4_book_I= clean_ASCII(input_doc)\n",
    "# print(pp_part_4_a_2)"
   ]
  },
  {
   "cell_type": "code",
   "execution_count": 49,
   "id": "e4dd91b8",
   "metadata": {},
   "outputs": [],
   "source": [
    "path = Path('../../Pentagon_Papers_Text_Files/Pentagon-Papers-Part-V-B-4-Book-II.txt')\n",
    "input_doc = open(path, encoding = 'utf-8').read()\n",
    "clean_ASCII(input_doc)\n",
    "pp_part_5_b_4_book_II= clean_ASCII(input_doc)\n",
    "# print(pp_part_4_a_2)"
   ]
  },
  {
   "cell_type": "code",
   "execution_count": 50,
   "id": "647842a3",
   "metadata": {},
   "outputs": [],
   "source": [
    "path = Path('../../Pentagon_Papers_Text_Files/Pentagon-Papers-Part-VI-A.txt')\n",
    "input_doc = open(path, encoding = 'utf-8').read()\n",
    "clean_ASCII(input_doc)\n",
    "pp_part_6_a= clean_ASCII(input_doc)\n",
    "# print(pp_part_4_a_2)"
   ]
  },
  {
   "cell_type": "code",
   "execution_count": 51,
   "id": "838d6608",
   "metadata": {},
   "outputs": [],
   "source": [
    "path = Path('../../Pentagon_Papers_Text_Files/Pentagon-Papers-Part-VI-B.txt')\n",
    "input_doc = open(path, encoding = 'utf-8').read()\n",
    "clean_ASCII(input_doc)\n",
    "pp_part_6_b= clean_ASCII(input_doc)\n",
    "# print(pp_part_4_a_2)"
   ]
  },
  {
   "cell_type": "code",
   "execution_count": 52,
   "id": "1aa53a6a",
   "metadata": {},
   "outputs": [],
   "source": [
    "path = Path('../../Pentagon_Papers_Text_Files/Pentagon-Papers-Part-VI-C-1.txt')\n",
    "input_doc = open(path, encoding = 'utf-8').read()\n",
    "clean_ASCII(input_doc)\n",
    "pp_part_6_c_1= clean_ASCII(input_doc)\n",
    "# print(pp_part_4_a_2)"
   ]
  },
  {
   "cell_type": "code",
   "execution_count": 53,
   "id": "77f41812",
   "metadata": {},
   "outputs": [],
   "source": [
    "path = Path('../../Pentagon_Papers_Text_Files/Pentagon-Papers-Part-VI-C-2.txt')\n",
    "input_doc = open(path, encoding = 'utf-8').read()\n",
    "clean_ASCII(input_doc)\n",
    "pp_part_6_c_2= clean_ASCII(input_doc)\n",
    "# print(pp_part_4_a_2)"
   ]
  },
  {
   "cell_type": "code",
   "execution_count": 54,
   "id": "4043c5da",
   "metadata": {},
   "outputs": [],
   "source": [
    "path = Path('../../Pentagon_Papers_Text_Files/Pentagon-Papers-Part-VI-C-3.txt')\n",
    "input_doc = open(path, encoding = 'utf-8').read()\n",
    "clean_ASCII(input_doc)\n",
    "pp_part_6_c_3= clean_ASCII(input_doc)\n",
    "# print(pp_part_4_a_2)"
   ]
  },
  {
   "cell_type": "code",
   "execution_count": 55,
   "id": "7a050c1d",
   "metadata": {},
   "outputs": [],
   "source": [
    "path = Path('../../Pentagon_Papers_Text_Files/Pentagon-Papers-Part-VI-C-4.txt')\n",
    "input_doc = open(path, encoding = 'utf-8').read()\n",
    "clean_ASCII(input_doc)\n",
    "pp_part_6_c_4= clean_ASCII(input_doc)\n",
    "# print(pp_part_4_a_2)"
   ]
  },
  {
   "cell_type": "markdown",
   "id": "a8961f86",
   "metadata": {},
   "source": [
    "<H2> Part 2: Regex Cleaning </H2> \n",
    "    OCR is a nightmare. This makes it a bit less of a nightmare. \n",
    "    Code and understanding of the code curtousy of Laura Turner O'Hara and her lesson <a href=\"https://programminghistorian.org/en/lessons/cleaning-ocrd-text-with-regular-expressions\">\"Cleaning OCR'd text with Regular Expressions\"</a> on the Programming Historian."
   ]
  },
  {
   "cell_type": "code",
   "execution_count": 90,
   "id": "167071dd",
   "metadata": {},
   "outputs": [],
   "source": [
    "import re"
   ]
  },
  {
   "cell_type": "code",
   "execution_count": null,
   "id": "c3e60dba",
   "metadata": {},
   "outputs": [],
   "source": []
  },
  {
   "cell_type": "code",
   "execution_count": null,
   "id": "30612d4a",
   "metadata": {},
   "outputs": [],
   "source": []
  },
  {
   "cell_type": "markdown",
   "id": "955985cc",
   "metadata": {},
   "source": [
    "<H2> Exporting Cleaned Txt Files </H2>"
   ]
  },
  {
   "cell_type": "code",
   "execution_count": null,
   "id": "a29a5ef4",
   "metadata": {},
   "outputs": [],
   "source": [
    "list [pp_index, pp_part_1, pp_part_2, pp_part_3, pp_part_4_a_1, pp_part_4_a_2, pp_part_4_a_3, pp_part_4_a_4, \n",
    "      pp_part_4_a_5, pp_part_4_b_1, pp_part_4_b_2, pp_part_4_b_3, pp_part_4_b_4, pp_part_4_b_5, \n",
    "      pp_part_4_c_1, pp_part_4_c_2a, pp_part_4_c_2b, pp_part_4_c_2c, pp_part_4_c_3, pp_part_4_c_4, \n",
    "      pp_part_4_c_5, pp_part_4_c_6_a, pp_part_4_c_6_b, pp_part_4_c_6_c, pp_part_4_c_7_a, pp_part_4_c_7_b, \n",
    "      pp_part_4_c_8, pp_part_4_c_9a, pp_part_4_c_9b, pp_part_5_a_vol_ia, pp_part_5_a_vol_ib,\n",
    "      pp_part_5_a_vol_ic, pp_part_5_a_vol_iid, pp_part_5_b_1, pp_part_5_b_2a, pp_part_5_b_2b, pp_part_5_b_3a, \n",
    "      pp_part_5_b_3b, pp_part_5_b_3c, pp_part_5_b_3d, pp_part_5_b_4_book_I,\n",
    "      pp_part_5_b_4_book_II, pp_part_6_a, pp_part_6_b, pp_part_6_c_1, pp_part_6_c_2, pp_part_6_c_3, pp_part_6_c_4]"
   ]
  },
  {
   "cell_type": "code",
   "execution_count": 75,
   "id": "9cce6a5e",
   "metadata": {},
   "outputs": [],
   "source": [
    "path = Path('../../Cleaned_Pentagon_Papers_text_files/Cleaned_Pentagon-Papers-Index.txt')\n",
    "with open(path, 'w') as f:\n",
    "    f.write(pp_index)"
   ]
  },
  {
   "cell_type": "code",
   "execution_count": 76,
   "id": "58ed64f6",
   "metadata": {},
   "outputs": [],
   "source": [
    "path = Path('../../Cleaned_Pentagon_Papers_text_files/Cleaned_Pentagon-Papers-I.txt')\n",
    "with open(path, 'w') as f:\n",
    "    f.write(pp_part_1)"
   ]
  },
  {
   "cell_type": "code",
   "execution_count": 77,
   "id": "e567cf88",
   "metadata": {},
   "outputs": [],
   "source": [
    "path = Path('../../Cleaned_Pentagon_Papers_text_files/Cleaned_Pentagon-Papers-II.txt')\n",
    "with open(path, 'w') as f:\n",
    "    f.write(pp_part_2)"
   ]
  },
  {
   "cell_type": "code",
   "execution_count": 78,
   "id": "ced64ec8",
   "metadata": {},
   "outputs": [],
   "source": [
    "path = Path('../../Cleaned_Pentagon_Papers_text_files/Cleaned_Pentagon-Papers-III.txt')\n",
    "with open(path, 'w') as f:\n",
    "    f.write(pp_part_3)"
   ]
  },
  {
   "cell_type": "code",
   "execution_count": 79,
   "id": "dd706f27",
   "metadata": {},
   "outputs": [],
   "source": [
    "path = Path('../../Cleaned_Pentagon_Papers_text_files/Cleaned_Pentagon-Papers-IV-A-1.txt')\n",
    "with open(path, 'w') as f:\n",
    "    f.write(pp_part_4_a_1)"
   ]
  },
  {
   "cell_type": "code",
   "execution_count": 80,
   "id": "f2d5bcd0",
   "metadata": {},
   "outputs": [],
   "source": [
    "path = Path('../../Cleaned_Pentagon_Papers_text_files/Cleaned_Pentagon-Papers-IV-A-2.txt')\n",
    "with open(path, 'w') as f:\n",
    "    f.write(pp_part_4_a_2)"
   ]
  },
  {
   "cell_type": "code",
   "execution_count": 81,
   "id": "bdf47f46",
   "metadata": {},
   "outputs": [],
   "source": [
    "path = Path('../../Cleaned_Pentagon_Papers_text_files/Cleaned_Pentagon-Papers-IV-A-3.txt')\n",
    "with open(path, 'w') as f:\n",
    "    f.write(pp_part_4_a_3)"
   ]
  },
  {
   "cell_type": "code",
   "execution_count": 82,
   "id": "dde1b343",
   "metadata": {},
   "outputs": [],
   "source": [
    "path = Path('../../Cleaned_Pentagon_Papers_text_files/Cleaned_Pentagon-Papers-IV-A-4.txt')\n",
    "with open(path, 'w') as f:\n",
    "    f.write(pp_part_4_a_4)"
   ]
  },
  {
   "cell_type": "code",
   "execution_count": 83,
   "id": "b9e2505d",
   "metadata": {},
   "outputs": [],
   "source": [
    "path = Path('../../Cleaned_Pentagon_Papers_text_files/Cleaned_Pentagon-Papers-IV-A-5.txt')\n",
    "with open(path, 'w') as f:\n",
    "    f.write(pp_part_4_a_5)"
   ]
  },
  {
   "cell_type": "code",
   "execution_count": 84,
   "id": "8c0e5f36",
   "metadata": {},
   "outputs": [],
   "source": [
    "path = Path('../../Cleaned_Pentagon_Papers_text_files/Cleaned_Pentagon-Papers-IV-B-1.txt')\n",
    "with open(path, 'w') as f:\n",
    "    f.write(pp_part_4_b_1)"
   ]
  },
  {
   "cell_type": "code",
   "execution_count": 85,
   "id": "0fabe311",
   "metadata": {},
   "outputs": [],
   "source": [
    "path = Path('../../Cleaned_Pentagon_Papers_text_files/Cleaned_Pentagon-Papers-IV-B-2.txt')\n",
    "with open(path, 'w') as f:\n",
    "    f.write(pp_part_4_b_2)"
   ]
  },
  {
   "cell_type": "code",
   "execution_count": 86,
   "id": "4d2e3d4e",
   "metadata": {},
   "outputs": [],
   "source": [
    "path = Path('../../Cleaned_Pentagon_Papers_text_files/Cleaned_Pentagon-Papers-IV-B-3.txt')\n",
    "with open(path, 'w') as f:\n",
    "    f.write(pp_part_4_b_3)"
   ]
  },
  {
   "cell_type": "code",
   "execution_count": 87,
   "id": "8168f092",
   "metadata": {},
   "outputs": [],
   "source": [
    "path = Path('../../Cleaned_Pentagon_Papers_text_files/Cleaned_Pentagon-Papers-IV-B-4.txt')\n",
    "with open(path, 'w') as f:\n",
    "    f.write(pp_part_4_b_4)"
   ]
  },
  {
   "cell_type": "code",
   "execution_count": 88,
   "id": "f23a9875",
   "metadata": {},
   "outputs": [],
   "source": [
    "path = Path('../../Cleaned_Pentagon_Papers_text_files/Cleaned_Pentagon-Papers-IV-B-5.txt')\n",
    "with open(path, 'w') as f:\n",
    "    f.write(pp_part_4_b_5)"
   ]
  },
  {
   "cell_type": "code",
   "execution_count": 89,
   "id": "b3c37f65",
   "metadata": {},
   "outputs": [],
   "source": [
    "path = Path('../../Cleaned_Pentagon_Papers_text_files/Cleaned_Pentagon-Papers-IV-C-1.txt')\n",
    "with open(path, 'w') as f:\n",
    "    f.write(pp_part_4_c_1)"
   ]
  },
  {
   "cell_type": "code",
   "execution_count": null,
   "id": "19caf251",
   "metadata": {},
   "outputs": [],
   "source": [
    "path = Path('../../Cleaned_Pentagon_Papers_text_files/Cleaned_Pentagon-Papers-IV-C-1.txt')\n",
    "with open(path, 'w') as f:\n",
    "    f.write(pp_part_4_c_1)"
   ]
  },
  {
   "cell_type": "code",
   "execution_count": null,
   "id": "413d6e88",
   "metadata": {},
   "outputs": [],
   "source": []
  },
  {
   "cell_type": "code",
   "execution_count": null,
   "id": "6546b5d0",
   "metadata": {},
   "outputs": [],
   "source": []
  },
  {
   "cell_type": "code",
   "execution_count": null,
   "id": "cf7f142c",
   "metadata": {},
   "outputs": [],
   "source": []
  },
  {
   "cell_type": "code",
   "execution_count": 74,
   "id": "7f4bc126",
   "metadata": {},
   "outputs": [],
   "source": [
    "path = Path('../../Cleaned_Pentagon_Papers_text_files/Cleaned_Pentagon-Papers-Part-VI-C-4.txt')\n",
    "with open(path, 'w') as f:\n",
    "    f.write(pp_part_6_c_4)"
   ]
  },
  {
   "cell_type": "code",
   "execution_count": null,
   "id": "24d70bee",
   "metadata": {},
   "outputs": [],
   "source": []
  },
  {
   "cell_type": "code",
   "execution_count": null,
   "id": "804dba69",
   "metadata": {},
   "outputs": [],
   "source": []
  },
  {
   "cell_type": "code",
   "execution_count": null,
   "id": "0162361f",
   "metadata": {},
   "outputs": [],
   "source": []
  },
  {
   "cell_type": "markdown",
   "id": "93cec538",
   "metadata": {},
   "source": [
    "<H2> DataFrame Creation <H2>"
   ]
  },
  {
   "cell_type": "code",
   "execution_count": 56,
   "id": "a9096c93",
   "metadata": {},
   "outputs": [
    {
     "name": "stdout",
     "output_type": "stream",
     "text": [
      "48\n",
      "48\n",
      "48\n",
      "48\n"
     ]
    }
   ],
   "source": [
    "list = [\"1945-1967\",\"1940-1950\", \"1950-1954\", \"1954\", \"1954-1960\", \"1950-1954\", \"1954-1956\",\"1954-1959\", \"1954-1960\", \"1961\", \"1961-1963\", \"1961-1967\", \"1962-1964\", \"1963\", \"1963-1965\", \"1964\", \"1964\", \"1964\", \"1965\", \"1965\", \"1965\", \"1965-1967\", \"1965-1967\", \"1965-1967\", \"1965-1968\", \"1965-1968\", \"1965-1967\", \"1963-1965\", \"1965-1967\", \"1950-1952\", \"1953-1960\", \"1960-1963\", \"1964-1967\", \"1940-1945\", \"1945-1949\", \"1950-1952\", \"1953\", \"1954\", \"1956\", \"1960\", \"1961\", \"1962-1963\", \"1965-1967\", \"1965-1967\", \"1965-1966\", \"1966-1967\",\"1967-1967\", \"1967-1968\"]\n",
    "print(len(list))\n",
    "\n",
    "specific = [\"1945-1967\", \"1940-1950\", \"1950-1954\", \"1954\", \"1954-1960\", \"1950-1954\", \"1954-1956\", \"1954-1959\", \"1954-1960\", \"1961\", \"1961-1963\", \"1961-1967\", \"1962-1964\", \"05/1963-11/1963\", \"11/1963-04/1965\", \"02/1964-06/1964\", \"07/1964-10/1964\", \"11/1964-12/1964\", \"01/1965-06/1965\", \"03/1965\", \"03/1965-07/1965\", \"1965-1967\", \"1965-1967\", \"1965-1967\", \"1965-1968\", \"1965-1968\", \"1965-1967\", \"12/1963-06/1965\", \"07/1965-12/1967\", \"05/08/1950-12/07/1952\", \"08/04/1953-08/25/1960\", \"02/29/1960-11/22/1963\", \"02/15/1964-11/17/1967\", \"1940-1945\", \"1945-1949\", \"1950-1952\", \"1953\", \"1954\", \"03/15/1956\", \"1960\", \"01/1961-12/1961\", \"01/1962-10/1963\", \"1965-1967\", \"1965-1967\", \"1965-1966\", \"06/1966-12/1967\", \"01/1967-09/1967\", \"1967-1968\"]\n",
    "print(len(specific))\n",
    "\n",
    "name_list = [\"Index\", \"Part-I\", \"Part-2\", \"Part-3\", \"Part-IV-A-1\", \"Part-IV-A-2\", \"Part-IV-A-3\", \"Part-IV-A-4\", \"Part-IV-A-5\", \"Part-IV-B-1\", \"Part-IV-B-2\", \"Part-IV-B-3\", \"Part-IV-B-4\", \"Part-IV-B-5\", \"Part-IV-C-1\", \"Part-IV-C-2a\", \"Part-IV-C-2b\", \"Part-IV-C-2c\", \"Part-IV-C-3\", \"Part-IV-C-4\", \"Part-IV-C-5\", \"Part-IV-C-6a\", \"Part-IV-C-6b\", \"Part-IV-C-6c\", \"Part-IV-C-7a\", \"Part-IV-C-7b\", \"Part-IV-C-8\", \"Part-IV-C-9a\", \"Part-IV-C-9b\", \"Part-V-A-Vol-IA\", \"Part-V-A-Vol-IB\", \"Part-V-A-Vol-IC\", \"Part-V-A-Vol-IID\", \"Part-V-B-1\", \"Part-V-B-2a\", \"Part-V-B-2b\", \"Part-V-B-3a\", \"Part-V-B-3b\", \"Part-V-B-3c\", \"Part-V-B-3d\", \"Part-V-B-4-Book-I\", \"Part-V-B-4-Book-II\", \"Part-VI-A\", \"Part-VI-B\", \"Part-VI-C-1\", \"Part-VI-C-2\", \"Part-VI-C-3\", \"Part-VI-C-4\"]\n",
    "print(len(name_list))\n",
    "\n",
    "\n",
    "text_list = [pp_index, pp_part_1, pp_part_2, pp_part_3, pp_part_4_a_1, pp_part_4_a_2, pp_part_4_a_3, pp_part_4_a_4, pp_part_4_a_5, pp_part_4_b_1, pp_part_4_b_2, pp_part_4_b_3, pp_part_4_b_4, pp_part_4_b_5, pp_part_4_c_1, pp_part_4_c_2a, pp_part_4_c_2b, pp_part_4_c_2c, pp_part_4_c_3, pp_part_4_c_4, pp_part_4_c_5, pp_part_4_c_6_a, pp_part_4_c_6_b, pp_part_4_c_6_c, pp_part_4_c_7_a, pp_part_4_c_7_b, pp_part_4_c_8, pp_part_4_c_9a, pp_part_4_c_9b, pp_part_5_a_vol_ia, pp_part_5_a_vol_ib, pp_part_5_a_vol_ic, pp_part_5_a_vol_iid, pp_part_5_b_1, pp_part_5_b_2a, pp_part_5_b_2b, pp_part_5_b_3a, pp_part_5_b_3b, pp_part_5_b_3c, pp_part_5_b_3d, pp_part_5_b_4_book_I, pp_part_5_b_4_book_II, pp_part_6_a, pp_part_6_b, pp_part_6_c_1, pp_part_6_c_2, pp_part_6_c_3, pp_part_6_c_4]\n",
    "print(len(text_list))"
   ]
  },
  {
   "cell_type": "code",
   "execution_count": 57,
   "id": "d3c220fc",
   "metadata": {},
   "outputs": [],
   "source": [
    "df = pd.DataFrame({\n",
    "    \"name\": [\"Index\", \"Part-I\", \"Part-2\", \"Part-3\", \"Part-IV-A-1\", \"Part-IV-A-2\", \"Part-IV-A-3\", \"Part-IV-A-4\", \"Part-IV-A-5\", \"Part-IV-B-1\", \"Part-IV-B-2\", \"Part-IV-B-3\", \"Part-IV-B-4\", \"Part-IV-B-5\", \"Part-IV-C-1\", \"Part-IV-C-2a\", \"Part-IV-C-2b\", \"Part-IV-C-2c\", \"Part-IV-C-3\", \"Part-IV-C-4\", \"Part-IV-C-5\", \"Part-IV-C-6a\", \"Part-IV-C-6b\", \"Part-IV-C-6c\", \"Part-IV-C-7a\", \"Part-IV-C-7b\", \"Part-IV-C-8\", \"Part-IV-C-9a\", \"Part-IV-C-9b\", \"Part-V-A-Vol-IA\", \"Part-V-A-Vol-IB\", \"Part-V-A-Vol-IC\", \"Part-V-A-Vol-IID\", \"Part-V-B-1\", \"Part-V-B-2a\", \"Part-V-B-2b\", \"Part-V-B-3a\", \"Part-V-B-3b\", \"Part-V-B-3c\", \"Part-V-B-3d\", \"Part-V-B-4-Book-I\", \"Part-V-B-4-Book-II\", \"Part-VI-A\", \"Part-VI-B\", \"Part-VI-C-1\", \"Part-VI-C-2\", \"Part-VI-C-3\", \"Part-VI-C-4\"],\n",
    "    \"overall_years\": [\"1945-1967\",\"1940-1950\", \"1950-1954\", \"1954\", \"1954-1960\", \"1950-1954\", \"1954-1956\",\"1954-1959\", \"1954-1960\", \"1961\", \"1961-1963\", \"1961-1967\", \"1962-1964\", \"1963\", \"1963-1965\", \"1964\", \"1964\", \"1964\", \"1965\", \"1965\", \"1965\", \"1965-1967\", \"1965-1967\", \"1965-1967\", \"1965-1968\", \"1965-1968\", \"1965-1967\", \"1963-1965\", \"1965-1967\", \"1950-1952\", \"1953-1960\", \"1960-1963\", \"1964-1967\", \"1940-1945\", \"1945-1949\", \"1950-1952\", \"1953\", \"1954\", \"1956\", \"1960\", \"1961\", \"1962-1963\", \"1965-1967\", \"1965-1967\", \"1965-1966\", \"1966-1967\",\"1967-1967\", \"1967-1968\"],\n",
    "    \"specific_dates\": [\"1945-1967\", \"1940-1950\", \"1950-1954\", \"1954\", \"1954-1960\", \"1950-1954\", \"1954-1956\", \"1954-1959\", \"1954-1960\", \"1961\", \"1961-1963\", \"1961-1967\", \"1962-1964\", \"05/1963-11/1963\", \"11/1963-04/1965\", \"02/1964-06/1964\", \"07/1964-10/1964\", \"11/1964-12/1964\", \"01/1965-06/1965\", \"03/1965\", \"03/1965-07/1965\", \"1965-1967\", \"1965-1967\", \"1965-1967\", \"1965-1968\", \"1965-1968\", \"1965-1967\", \"12/1963-06/1965\", \"07/1965-12/1967\", \"05/08/1950-12/07/1952\", \"08/04/1953-08/25/1960\", \"02/29/1960-11/22/1963\", \"02/15/1964-11/17/1967\", \"1940-1945\", \"1945-1949\", \"1950-1952\", \"1953\", \"1954\", \"03/15/1956\", \"1960\", \"01/1961-12/1961\", \"01/1962-10/1963\", \"1965-1967\", \"1965-1967\", \"1965-1966\", \"06/1966-12/1967\", \"01/1967-09/1967\", \"1967-1968\"], \n",
    "    \"text\": [pp_index, pp_part_1, pp_part_2, pp_part_3, pp_part_4_a_1, pp_part_4_a_2, pp_part_4_a_3, pp_part_4_a_4, pp_part_4_a_5, pp_part_4_b_1, pp_part_4_b_2, pp_part_4_b_3, pp_part_4_b_4, pp_part_4_b_5, pp_part_4_c_1, pp_part_4_c_2a, pp_part_4_c_2b, pp_part_4_c_2c, pp_part_4_c_3, pp_part_4_c_4, pp_part_4_c_5, pp_part_4_c_6_a, pp_part_4_c_6_b, pp_part_4_c_6_c, pp_part_4_c_7_a, pp_part_4_c_7_b, pp_part_4_c_8, pp_part_4_c_9a, pp_part_4_c_9b, pp_part_5_a_vol_ia, pp_part_5_a_vol_ib, pp_part_5_a_vol_ic, pp_part_5_a_vol_iid, pp_part_5_b_1, pp_part_5_b_2a, pp_part_5_b_2b, pp_part_5_b_3a, pp_part_5_b_3b, pp_part_5_b_3c, pp_part_5_b_3d, pp_part_5_b_4_book_I, pp_part_5_b_4_book_II, pp_part_6_a, pp_part_6_b, pp_part_6_c_1, pp_part_6_c_2, pp_part_6_c_3, pp_part_6_c_4]})"
   ]
  },
  {
   "cell_type": "code",
   "execution_count": 58,
   "id": "6d21c73f",
   "metadata": {
    "scrolled": true
   },
   "outputs": [
    {
     "data": {
      "text/html": [
       "<div>\n",
       "<style scoped>\n",
       "    .dataframe tbody tr th:only-of-type {\n",
       "        vertical-align: middle;\n",
       "    }\n",
       "\n",
       "    .dataframe tbody tr th {\n",
       "        vertical-align: top;\n",
       "    }\n",
       "\n",
       "    .dataframe thead th {\n",
       "        text-align: right;\n",
       "    }\n",
       "</style>\n",
       "<table border=\"1\" class=\"dataframe\">\n",
       "  <thead>\n",
       "    <tr style=\"text-align: right;\">\n",
       "      <th></th>\n",
       "      <th>name</th>\n",
       "      <th>overall_years</th>\n",
       "      <th>specific_dates</th>\n",
       "      <th>text</th>\n",
       "    </tr>\n",
       "  </thead>\n",
       "  <tbody>\n",
       "    <tr>\n",
       "      <th>0</th>\n",
       "      <td>Index</td>\n",
       "      <td>1945-1967</td>\n",
       "      <td>1945-1967</td>\n",
       "      <td>Declassified per Executive Order 13526. Sectio...</td>\n",
       "    </tr>\n",
       "    <tr>\n",
       "      <th>1</th>\n",
       "      <td>Part-I</td>\n",
       "      <td>1940-1950</td>\n",
       "      <td>1940-1950</td>\n",
       "      <td>Declassified per Executive Order 13526. Sectio...</td>\n",
       "    </tr>\n",
       "    <tr>\n",
       "      <th>2</th>\n",
       "      <td>Part-2</td>\n",
       "      <td>1950-1954</td>\n",
       "      <td>1950-1954</td>\n",
       "      <td>Declassified per Executive Order 13526, Sectio...</td>\n",
       "    </tr>\n",
       "    <tr>\n",
       "      <th>3</th>\n",
       "      <td>Part-3</td>\n",
       "      <td>1954</td>\n",
       "      <td>1954</td>\n",
       "      <td>Declassified per Executive Order 13526, Sectio...</td>\n",
       "    </tr>\n",
       "    <tr>\n",
       "      <th>4</th>\n",
       "      <td>Part-IV-A-1</td>\n",
       "      <td>1954-1960</td>\n",
       "      <td>1954-1960</td>\n",
       "      <td>Declassified per Executive Order 13526, Sectio...</td>\n",
       "    </tr>\n",
       "    <tr>\n",
       "      <th>5</th>\n",
       "      <td>Part-IV-A-2</td>\n",
       "      <td>1950-1954</td>\n",
       "      <td>1950-1954</td>\n",
       "      <td>Declassified per Executive Order 13526, Sectio...</td>\n",
       "    </tr>\n",
       "    <tr>\n",
       "      <th>6</th>\n",
       "      <td>Part-IV-A-3</td>\n",
       "      <td>1954-1956</td>\n",
       "      <td>1954-1956</td>\n",
       "      <td>Declassified per Executive Order 13526. Sectio...</td>\n",
       "    </tr>\n",
       "    <tr>\n",
       "      <th>7</th>\n",
       "      <td>Part-IV-A-4</td>\n",
       "      <td>1954-1959</td>\n",
       "      <td>1954-1959</td>\n",
       "      <td>Declassified per Executive Order 13526, Sectio...</td>\n",
       "    </tr>\n",
       "    <tr>\n",
       "      <th>8</th>\n",
       "      <td>Part-IV-A-5</td>\n",
       "      <td>1954-1960</td>\n",
       "      <td>1954-1960</td>\n",
       "      <td>Declassified per Executive Order 13526, Sectio...</td>\n",
       "    </tr>\n",
       "    <tr>\n",
       "      <th>9</th>\n",
       "      <td>Part-IV-B-1</td>\n",
       "      <td>1961</td>\n",
       "      <td>1961</td>\n",
       "      <td>Declassified per Executive Order 13526, Sectio...</td>\n",
       "    </tr>\n",
       "    <tr>\n",
       "      <th>10</th>\n",
       "      <td>Part-IV-B-2</td>\n",
       "      <td>1961-1963</td>\n",
       "      <td>1961-1963</td>\n",
       "      <td>Declassified per Executive Order 13526, Sectio...</td>\n",
       "    </tr>\n",
       "    <tr>\n",
       "      <th>11</th>\n",
       "      <td>Part-IV-B-3</td>\n",
       "      <td>1961-1967</td>\n",
       "      <td>1961-1967</td>\n",
       "      <td>Declassified per Executive Order 13526, Sectio...</td>\n",
       "    </tr>\n",
       "    <tr>\n",
       "      <th>12</th>\n",
       "      <td>Part-IV-B-4</td>\n",
       "      <td>1962-1964</td>\n",
       "      <td>1962-1964</td>\n",
       "      <td>Declassified per Executive Order 13526. Sectio...</td>\n",
       "    </tr>\n",
       "    <tr>\n",
       "      <th>13</th>\n",
       "      <td>Part-IV-B-5</td>\n",
       "      <td>1963</td>\n",
       "      <td>05/1963-11/1963</td>\n",
       "      <td>Declassified per Executive Order 13526. Sectio...</td>\n",
       "    </tr>\n",
       "    <tr>\n",
       "      <th>14</th>\n",
       "      <td>Part-IV-C-1</td>\n",
       "      <td>1963-1965</td>\n",
       "      <td>11/1963-04/1965</td>\n",
       "      <td>Declassified per Executive Order 13526, Sectio...</td>\n",
       "    </tr>\n",
       "    <tr>\n",
       "      <th>15</th>\n",
       "      <td>Part-IV-C-2a</td>\n",
       "      <td>1964</td>\n",
       "      <td>02/1964-06/1964</td>\n",
       "      <td>Declassified per Executive Order 13526. Sectio...</td>\n",
       "    </tr>\n",
       "    <tr>\n",
       "      <th>16</th>\n",
       "      <td>Part-IV-C-2b</td>\n",
       "      <td>1964</td>\n",
       "      <td>07/1964-10/1964</td>\n",
       "      <td>Declassified per Executive Order 13526, Sectio...</td>\n",
       "    </tr>\n",
       "    <tr>\n",
       "      <th>17</th>\n",
       "      <td>Part-IV-C-2c</td>\n",
       "      <td>1964</td>\n",
       "      <td>11/1964-12/1964</td>\n",
       "      <td>Declassified per Executive Order 13526. Sectio...</td>\n",
       "    </tr>\n",
       "    <tr>\n",
       "      <th>18</th>\n",
       "      <td>Part-IV-C-3</td>\n",
       "      <td>1965</td>\n",
       "      <td>01/1965-06/1965</td>\n",
       "      <td>Declassified per Executive Order 13526. Sectio...</td>\n",
       "    </tr>\n",
       "    <tr>\n",
       "      <th>19</th>\n",
       "      <td>Part-IV-C-4</td>\n",
       "      <td>1965</td>\n",
       "      <td>03/1965</td>\n",
       "      <td>Declassified per Executive Order 13526. Sectio...</td>\n",
       "    </tr>\n",
       "    <tr>\n",
       "      <th>20</th>\n",
       "      <td>Part-IV-C-5</td>\n",
       "      <td>1965</td>\n",
       "      <td>03/1965-07/1965</td>\n",
       "      <td>Declassified per Executive Order 13526, Sectio...</td>\n",
       "    </tr>\n",
       "    <tr>\n",
       "      <th>21</th>\n",
       "      <td>Part-IV-C-6a</td>\n",
       "      <td>1965-1967</td>\n",
       "      <td>1965-1967</td>\n",
       "      <td>Declassified per Executive Order 13526, Sectio...</td>\n",
       "    </tr>\n",
       "    <tr>\n",
       "      <th>22</th>\n",
       "      <td>Part-IV-C-6b</td>\n",
       "      <td>1965-1967</td>\n",
       "      <td>1965-1967</td>\n",
       "      <td>Declassified per Executive Order 13526, Sectio...</td>\n",
       "    </tr>\n",
       "    <tr>\n",
       "      <th>23</th>\n",
       "      <td>Part-IV-C-6c</td>\n",
       "      <td>1965-1967</td>\n",
       "      <td>1965-1967</td>\n",
       "      <td>Declassified per Executive Order 13526, Sectio...</td>\n",
       "    </tr>\n",
       "    <tr>\n",
       "      <th>24</th>\n",
       "      <td>Part-IV-C-7a</td>\n",
       "      <td>1965-1968</td>\n",
       "      <td>1965-1968</td>\n",
       "      <td>Declassified per Executive Order 13526, Sectio...</td>\n",
       "    </tr>\n",
       "    <tr>\n",
       "      <th>25</th>\n",
       "      <td>Part-IV-C-7b</td>\n",
       "      <td>1965-1968</td>\n",
       "      <td>1965-1968</td>\n",
       "      <td>Declassified per Executive Order 13526, Sectio...</td>\n",
       "    </tr>\n",
       "    <tr>\n",
       "      <th>26</th>\n",
       "      <td>Part-IV-C-8</td>\n",
       "      <td>1965-1967</td>\n",
       "      <td>1965-1967</td>\n",
       "      <td>Declassified per Executive Order 13526. Sectio...</td>\n",
       "    </tr>\n",
       "    <tr>\n",
       "      <th>27</th>\n",
       "      <td>Part-IV-C-9a</td>\n",
       "      <td>1963-1965</td>\n",
       "      <td>12/1963-06/1965</td>\n",
       "      <td>Declassified per Executive Order 13526. Sectio...</td>\n",
       "    </tr>\n",
       "    <tr>\n",
       "      <th>28</th>\n",
       "      <td>Part-IV-C-9b</td>\n",
       "      <td>1965-1967</td>\n",
       "      <td>07/1965-12/1967</td>\n",
       "      <td>Declassified per Executive Order 13526. Sectio...</td>\n",
       "    </tr>\n",
       "    <tr>\n",
       "      <th>29</th>\n",
       "      <td>Part-V-A-Vol-IA</td>\n",
       "      <td>1950-1952</td>\n",
       "      <td>05/08/1950-12/07/1952</td>\n",
       "      <td>Declassified per Executive Order 13526. Sectio...</td>\n",
       "    </tr>\n",
       "    <tr>\n",
       "      <th>30</th>\n",
       "      <td>Part-V-A-Vol-IB</td>\n",
       "      <td>1953-1960</td>\n",
       "      <td>08/04/1953-08/25/1960</td>\n",
       "      <td>Declassified per Executive Order 13526. Sectio...</td>\n",
       "    </tr>\n",
       "    <tr>\n",
       "      <th>31</th>\n",
       "      <td>Part-V-A-Vol-IC</td>\n",
       "      <td>1960-1963</td>\n",
       "      <td>02/29/1960-11/22/1963</td>\n",
       "      <td>Declassified per Executive Order 13526, Sectio...</td>\n",
       "    </tr>\n",
       "    <tr>\n",
       "      <th>32</th>\n",
       "      <td>Part-V-A-Vol-IID</td>\n",
       "      <td>1964-1967</td>\n",
       "      <td>02/15/1964-11/17/1967</td>\n",
       "      <td>Declassified per Executive Order 13526. Sectio...</td>\n",
       "    </tr>\n",
       "    <tr>\n",
       "      <th>33</th>\n",
       "      <td>Part-V-B-1</td>\n",
       "      <td>1940-1945</td>\n",
       "      <td>1940-1945</td>\n",
       "      <td>Declassified per Executive Order 13526. Sectio...</td>\n",
       "    </tr>\n",
       "    <tr>\n",
       "      <th>34</th>\n",
       "      <td>Part-V-B-2a</td>\n",
       "      <td>1945-1949</td>\n",
       "      <td>1945-1949</td>\n",
       "      <td>Declassified per Executive Ordcr 13526. Sectio...</td>\n",
       "    </tr>\n",
       "    <tr>\n",
       "      <th>35</th>\n",
       "      <td>Part-V-B-2b</td>\n",
       "      <td>1950-1952</td>\n",
       "      <td>1950-1952</td>\n",
       "      <td>Declassified per Executive Order 13526, Sectio...</td>\n",
       "    </tr>\n",
       "    <tr>\n",
       "      <th>36</th>\n",
       "      <td>Part-V-B-3a</td>\n",
       "      <td>1953</td>\n",
       "      <td>1953</td>\n",
       "      <td>Declassified per Executive Order 1.3526, Secti...</td>\n",
       "    </tr>\n",
       "    <tr>\n",
       "      <th>37</th>\n",
       "      <td>Part-V-B-3b</td>\n",
       "      <td>1954</td>\n",
       "      <td>1954</td>\n",
       "      <td>Declassified per Executive Order 13526, Sectio...</td>\n",
       "    </tr>\n",
       "    <tr>\n",
       "      <th>38</th>\n",
       "      <td>Part-V-B-3c</td>\n",
       "      <td>1956</td>\n",
       "      <td>03/15/1956</td>\n",
       "      <td>Declassified per Executive Order 13526, Sectio...</td>\n",
       "    </tr>\n",
       "    <tr>\n",
       "      <th>39</th>\n",
       "      <td>Part-V-B-3d</td>\n",
       "      <td>1960</td>\n",
       "      <td>1960</td>\n",
       "      <td>Declassified pcr Executive Order 13526. Sectio...</td>\n",
       "    </tr>\n",
       "    <tr>\n",
       "      <th>40</th>\n",
       "      <td>Part-V-B-4-Book-I</td>\n",
       "      <td>1961</td>\n",
       "      <td>01/1961-12/1961</td>\n",
       "      <td>Declassified per Executive Order 13526, Sectio...</td>\n",
       "    </tr>\n",
       "    <tr>\n",
       "      <th>41</th>\n",
       "      <td>Part-V-B-4-Book-II</td>\n",
       "      <td>1962-1963</td>\n",
       "      <td>01/1962-10/1963</td>\n",
       "      <td>Declassified per Executive Order 13526, Sectio...</td>\n",
       "    </tr>\n",
       "    <tr>\n",
       "      <th>42</th>\n",
       "      <td>Part-VI-A</td>\n",
       "      <td>1965-1967</td>\n",
       "      <td>1965-1967</td>\n",
       "      <td>Declassified per Executive Order 13526, Sectio...</td>\n",
       "    </tr>\n",
       "    <tr>\n",
       "      <th>43</th>\n",
       "      <td>Part-VI-B</td>\n",
       "      <td>1965-1967</td>\n",
       "      <td>1965-1967</td>\n",
       "      <td>Declassified per Executive Order 13526. Sectio...</td>\n",
       "    </tr>\n",
       "    <tr>\n",
       "      <th>44</th>\n",
       "      <td>Part-VI-C-1</td>\n",
       "      <td>1965-1966</td>\n",
       "      <td>1965-1966</td>\n",
       "      <td>Declassified per Executive Order 13526. Sectio...</td>\n",
       "    </tr>\n",
       "    <tr>\n",
       "      <th>45</th>\n",
       "      <td>Part-VI-C-2</td>\n",
       "      <td>1966-1967</td>\n",
       "      <td>06/1966-12/1967</td>\n",
       "      <td>Declassified per Executive Order 13526, Sectio...</td>\n",
       "    </tr>\n",
       "    <tr>\n",
       "      <th>46</th>\n",
       "      <td>Part-VI-C-3</td>\n",
       "      <td>1967-1967</td>\n",
       "      <td>01/1967-09/1967</td>\n",
       "      <td>Declassified per Executive Order 13526, Sectio...</td>\n",
       "    </tr>\n",
       "    <tr>\n",
       "      <th>47</th>\n",
       "      <td>Part-VI-C-4</td>\n",
       "      <td>1967-1968</td>\n",
       "      <td>1967-1968</td>\n",
       "      <td>Declassified per Executive Order 13526. Sectio...</td>\n",
       "    </tr>\n",
       "  </tbody>\n",
       "</table>\n",
       "</div>"
      ],
      "text/plain": [
       "                  name overall_years         specific_dates  \\\n",
       "0                Index     1945-1967              1945-1967   \n",
       "1               Part-I     1940-1950              1940-1950   \n",
       "2               Part-2     1950-1954              1950-1954   \n",
       "3               Part-3          1954                   1954   \n",
       "4          Part-IV-A-1     1954-1960              1954-1960   \n",
       "5          Part-IV-A-2     1950-1954              1950-1954   \n",
       "6          Part-IV-A-3     1954-1956              1954-1956   \n",
       "7          Part-IV-A-4     1954-1959              1954-1959   \n",
       "8          Part-IV-A-5     1954-1960              1954-1960   \n",
       "9          Part-IV-B-1          1961                   1961   \n",
       "10         Part-IV-B-2     1961-1963              1961-1963   \n",
       "11         Part-IV-B-3     1961-1967              1961-1967   \n",
       "12         Part-IV-B-4     1962-1964              1962-1964   \n",
       "13         Part-IV-B-5          1963        05/1963-11/1963   \n",
       "14         Part-IV-C-1     1963-1965        11/1963-04/1965   \n",
       "15        Part-IV-C-2a          1964        02/1964-06/1964   \n",
       "16        Part-IV-C-2b          1964        07/1964-10/1964   \n",
       "17        Part-IV-C-2c          1964        11/1964-12/1964   \n",
       "18         Part-IV-C-3          1965        01/1965-06/1965   \n",
       "19         Part-IV-C-4          1965                03/1965   \n",
       "20         Part-IV-C-5          1965        03/1965-07/1965   \n",
       "21        Part-IV-C-6a     1965-1967              1965-1967   \n",
       "22        Part-IV-C-6b     1965-1967              1965-1967   \n",
       "23        Part-IV-C-6c     1965-1967              1965-1967   \n",
       "24        Part-IV-C-7a     1965-1968              1965-1968   \n",
       "25        Part-IV-C-7b     1965-1968              1965-1968   \n",
       "26         Part-IV-C-8     1965-1967              1965-1967   \n",
       "27        Part-IV-C-9a     1963-1965        12/1963-06/1965   \n",
       "28        Part-IV-C-9b     1965-1967        07/1965-12/1967   \n",
       "29     Part-V-A-Vol-IA     1950-1952  05/08/1950-12/07/1952   \n",
       "30     Part-V-A-Vol-IB     1953-1960  08/04/1953-08/25/1960   \n",
       "31     Part-V-A-Vol-IC     1960-1963  02/29/1960-11/22/1963   \n",
       "32    Part-V-A-Vol-IID     1964-1967  02/15/1964-11/17/1967   \n",
       "33          Part-V-B-1     1940-1945              1940-1945   \n",
       "34         Part-V-B-2a     1945-1949              1945-1949   \n",
       "35         Part-V-B-2b     1950-1952              1950-1952   \n",
       "36         Part-V-B-3a          1953                   1953   \n",
       "37         Part-V-B-3b          1954                   1954   \n",
       "38         Part-V-B-3c          1956             03/15/1956   \n",
       "39         Part-V-B-3d          1960                   1960   \n",
       "40   Part-V-B-4-Book-I          1961        01/1961-12/1961   \n",
       "41  Part-V-B-4-Book-II     1962-1963        01/1962-10/1963   \n",
       "42           Part-VI-A     1965-1967              1965-1967   \n",
       "43           Part-VI-B     1965-1967              1965-1967   \n",
       "44         Part-VI-C-1     1965-1966              1965-1966   \n",
       "45         Part-VI-C-2     1966-1967        06/1966-12/1967   \n",
       "46         Part-VI-C-3     1967-1967        01/1967-09/1967   \n",
       "47         Part-VI-C-4     1967-1968              1967-1968   \n",
       "\n",
       "                                                 text  \n",
       "0   Declassified per Executive Order 13526. Sectio...  \n",
       "1   Declassified per Executive Order 13526. Sectio...  \n",
       "2   Declassified per Executive Order 13526, Sectio...  \n",
       "3   Declassified per Executive Order 13526, Sectio...  \n",
       "4   Declassified per Executive Order 13526, Sectio...  \n",
       "5   Declassified per Executive Order 13526, Sectio...  \n",
       "6   Declassified per Executive Order 13526. Sectio...  \n",
       "7   Declassified per Executive Order 13526, Sectio...  \n",
       "8   Declassified per Executive Order 13526, Sectio...  \n",
       "9   Declassified per Executive Order 13526, Sectio...  \n",
       "10  Declassified per Executive Order 13526, Sectio...  \n",
       "11  Declassified per Executive Order 13526, Sectio...  \n",
       "12  Declassified per Executive Order 13526. Sectio...  \n",
       "13  Declassified per Executive Order 13526. Sectio...  \n",
       "14  Declassified per Executive Order 13526, Sectio...  \n",
       "15  Declassified per Executive Order 13526. Sectio...  \n",
       "16  Declassified per Executive Order 13526, Sectio...  \n",
       "17  Declassified per Executive Order 13526. Sectio...  \n",
       "18  Declassified per Executive Order 13526. Sectio...  \n",
       "19  Declassified per Executive Order 13526. Sectio...  \n",
       "20  Declassified per Executive Order 13526, Sectio...  \n",
       "21  Declassified per Executive Order 13526, Sectio...  \n",
       "22  Declassified per Executive Order 13526, Sectio...  \n",
       "23  Declassified per Executive Order 13526, Sectio...  \n",
       "24  Declassified per Executive Order 13526, Sectio...  \n",
       "25  Declassified per Executive Order 13526, Sectio...  \n",
       "26  Declassified per Executive Order 13526. Sectio...  \n",
       "27  Declassified per Executive Order 13526. Sectio...  \n",
       "28  Declassified per Executive Order 13526. Sectio...  \n",
       "29  Declassified per Executive Order 13526. Sectio...  \n",
       "30  Declassified per Executive Order 13526. Sectio...  \n",
       "31  Declassified per Executive Order 13526, Sectio...  \n",
       "32  Declassified per Executive Order 13526. Sectio...  \n",
       "33  Declassified per Executive Order 13526. Sectio...  \n",
       "34  Declassified per Executive Ordcr 13526. Sectio...  \n",
       "35  Declassified per Executive Order 13526, Sectio...  \n",
       "36  Declassified per Executive Order 1.3526, Secti...  \n",
       "37  Declassified per Executive Order 13526, Sectio...  \n",
       "38  Declassified per Executive Order 13526, Sectio...  \n",
       "39  Declassified pcr Executive Order 13526. Sectio...  \n",
       "40  Declassified per Executive Order 13526, Sectio...  \n",
       "41  Declassified per Executive Order 13526, Sectio...  \n",
       "42  Declassified per Executive Order 13526, Sectio...  \n",
       "43  Declassified per Executive Order 13526. Sectio...  \n",
       "44  Declassified per Executive Order 13526. Sectio...  \n",
       "45  Declassified per Executive Order 13526, Sectio...  \n",
       "46  Declassified per Executive Order 13526, Sectio...  \n",
       "47  Declassified per Executive Order 13526. Sectio...  "
      ]
     },
     "execution_count": 58,
     "metadata": {},
     "output_type": "execute_result"
    }
   ],
   "source": [
    "df"
   ]
  },
  {
   "cell_type": "code",
   "execution_count": 59,
   "id": "a56f3fad",
   "metadata": {},
   "outputs": [],
   "source": [
    "path = Path('../../Entity_Extraction/full_text_document.csv')\n",
    "df.to_csv(r\"C:\\Users\\bob\\IS417_DSH\\New_IS_417_DSH_V02\\is417\\Entity_Extraction\\full_txt_document.csv\")\n",
    "# \"C:\\Users\\bob\\IS417_DSH\\New_IS_417_DSH_V02\\is417\\Entity_Extraction\""
   ]
  },
  {
   "cell_type": "markdown",
   "id": "95e1d08b",
   "metadata": {},
   "source": []
  },
  {
   "cell_type": "code",
   "execution_count": 60,
   "id": "fcd9decf",
   "metadata": {},
   "outputs": [],
   "source": []
  },
  {
   "cell_type": "code",
   "execution_count": null,
   "id": "69d076e6",
   "metadata": {},
   "outputs": [],
   "source": []
  }
 ],
 "metadata": {
  "kernelspec": {
   "display_name": "Python 3",
   "language": "python",
   "name": "python3"
  },
  "language_info": {
   "codemirror_mode": {
    "name": "ipython",
    "version": 3
   },
   "file_extension": ".py",
   "mimetype": "text/x-python",
   "name": "python",
   "nbconvert_exporter": "python",
   "pygments_lexer": "ipython3",
   "version": "3.8.8"
  }
 },
 "nbformat": 4,
 "nbformat_minor": 5
}
